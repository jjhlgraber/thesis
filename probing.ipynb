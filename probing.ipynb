{
 "cells": [
  {
   "cell_type": "code",
   "execution_count": 1,
   "metadata": {},
   "outputs": [
    {
     "name": "stderr",
     "output_type": "stream",
     "text": [
      "Seed set to 42\n"
     ]
    }
   ],
   "source": [
    "import torch\n",
    "import torch.nn as nn\n",
    "import pytorch_lightning as pl\n",
    "from pytorch_lightning.loggers import WandbLogger\n",
    "from pytorch_lightning.callbacks.early_stopping import EarlyStopping\n",
    "import matplotlib.pyplot as plt\n",
    "import pickle\n",
    "pl.seed_everything(42, workers=True)\n",
    "from set_models import (\n",
    "    SetCNNEmbedder,\n",
    "    SetSequenceModel,\n",
    "    MaxPoolModule,\n",
    "    FirstPoolModule,\n",
    "    MeanPoolModule,\n",
    "    SetClassifierLayer\n",
    ")\n",
    "\n",
    "from simple_abstractor import SimpleAbstractorEncoder\n",
    "from set_data_lit import SetTriplesDataModule, SetCardDataModule\n",
    "from set_data import SetCardBaseDataset, SetTriplesDataset\n",
    "\n"
   ]
  },
  {
   "cell_type": "code",
   "execution_count": null,
   "metadata": {},
   "outputs": [],
   "source": []
  },
  {
   "cell_type": "code",
   "execution_count": null,
   "metadata": {},
   "outputs": [],
   "source": []
  },
  {
   "cell_type": "code",
   "execution_count": null,
   "metadata": {},
   "outputs": [],
   "source": []
  },
  {
   "cell_type": "code",
   "execution_count": null,
   "metadata": {},
   "outputs": [],
   "source": []
  },
  {
   "cell_type": "code",
   "execution_count": null,
   "metadata": {},
   "outputs": [],
   "source": [
    "from itertools import combinations\n",
    "import logging\n",
    "\n",
    "logging.getLogger(\"pytorch_lightning\").setLevel(logging.WARNING)"
   ]
  },
  {
   "cell_type": "code",
   "execution_count": null,
   "metadata": {},
   "outputs": [],
   "source": [
    "logger = False\n",
    "trainer_kwargs = dict(\n",
    "    max_epochs=1,\n",
    "    precision=\"16\",\n",
    "    logger=logger,\n",
    "    callbacks=[\n",
    "        EarlyStopping(monitor=\"val_loss\", mode=\"min\", patience=15),\n",
    "    ],\n",
    "    val_check_interval=25,\n",
    "    deterministic=True,\n",
    ")\n",
    "seq_model = torch.load(\"./snellius_checkpoints/e2e_long_seq.pth\")\n"
   ]
  },
  {
   "cell_type": "code",
   "execution_count": null,
   "metadata": {},
   "outputs": [],
   "source": [
    "seq_model.eval()\n",
    "for feature_states_used in combinations([0,1,2], 2):\n",
    "    ds = SetCardBaseDataset(feature_states_used=feature_states_used, features_used=[0,1,2,3])\n",
    "    dm = SetTriplesDataModule(\n",
    "        ds,\n",
    "        batch_size=64,\n",
    "        label_choice=\"is_set\",\n",
    "        balanced_sampling=True,  # Enable balanced sampling\n",
    "        val_split=0.01,\n",
    "        test_split=0.9,\n",
    "        # balanced_subset= False,\n",
    "    )\n",
    "    dm.setup()\n",
    "    print(feature_states_used)\n",
    "\n",
    "    trainer = pl.Trainer(**trainer_kwargs)\n",
    "    # trainer.fit(seq_model, dm)\n",
    "    test_res = trainer.test(seq_model, dm)\n",
    "    print(test_res)"
   ]
  },
  {
   "cell_type": "code",
   "execution_count": null,
   "metadata": {},
   "outputs": [],
   "source": [
    "# seq_model = torch.load(\"./checkpoints/full_seq_model.pt\")\n"
   ]
  },
  {
   "cell_type": "code",
   "execution_count": null,
   "metadata": {},
   "outputs": [],
   "source": [
    "import logging\n",
    "\n",
    "logging.getLogger(\"pytorch_lightning\").setLevel(logging.WARNING)\n",
    "\n",
    "class ReshapeModule(nn.Module):\n",
    "  def __init__(self, embed_dim):\n",
    "    super(ReshapeModule, self).__init__()\n",
    "    self.embed_dim = embed_dim\n",
    "\n",
    "  def forward(self, x):\n",
    "    return x.view(-1, self.embed_dim)"
   ]
  },
  {
   "cell_type": "code",
   "execution_count": null,
   "metadata": {},
   "outputs": [],
   "source": [
    "def precompute_Rel_attention_hidden_states(dm, module, batch_size=128):\n",
    "    module.eval()\n",
    "    ds_len = dm.triples_dataset.__len__()\n",
    "    with torch.no_grad():\n",
    "        A = dm.triples_dataset.triples_hidden_states\n",
    "        X = dm.triples_dataset.get_from_setcard_dataset(torch.arange(ds_len))\n",
    "\n",
    "        attn_output = module.self_attn(\n",
    "            query=X, key=X, value=A,\n",
    "        )\n",
    "\n",
    "        A = A + attn_output\n",
    "\n",
    "        A = module.norm1(A)\n",
    "\n",
    "        dm.triples_dataset.triples_hidden_states = A\n",
    "\n",
    "def precompute_ff_hidden_states(dm, module, batch_size=128):\n",
    "    module.eval()\n",
    "    with torch.no_grad():\n",
    "        A = dm.triples_dataset.triples_hidden_states\n",
    "\n",
    "        ff_output = module.ff(A)\n",
    "\n",
    "        A = A + ff_output\n",
    "\n",
    "        A = module.norm2(A)\n",
    "        \n",
    "        dm.triples_dataset.triples_hidden_states = A"
   ]
  },
  {
   "cell_type": "code",
   "execution_count": null,
   "metadata": {},
   "outputs": [],
   "source": [
    "def probe_contextual_hidden_states(dm):\n",
    "    n_features = 4\n",
    "    accuracies = {}\n",
    "\n",
    "    for label_choice in dm.triples_dataset.label_functions.keys():\n",
    "\n",
    "        dm.set_labels_dm(label_choice)\n",
    "        try:\n",
    "            embed_dim = dm.triples_dataset.triples_hidden_states.size(-1)\n",
    "        except:\n",
    "            embed_dim = dm.triples_dataset.setcard_dataset.card_embeds.size(-1)\n",
    "\n",
    "        if label_choice == \"features_pointwise\":\n",
    "            aggregate_seq = ReshapeModule(embed_dim)\n",
    "            seq_len = 1\n",
    "        else:\n",
    "            aggregate_seq = nn.Flatten()\n",
    "            seq_len = 3\n",
    "\n",
    "        classifier = SetClassifierLayer(label_choice=label_choice, embed_dim=embed_dim, seq_len=seq_len, n_features=n_features)\n",
    "        probe = SetSequenceModel(classifier=classifier, aggregate_seq=aggregate_seq)\n",
    "\n",
    "        trainer_kwargs = dict(\n",
    "        max_epochs=20,\n",
    "        logger=False,   \n",
    "            callbacks=[EarlyStopping(monitor=\"val_loss\", mode=\"min\", patience=5)],\n",
    "        val_check_interval=10,\n",
    "        enable_progress_bar=False,\n",
    "        enable_model_summary = False,\n",
    "        enable_checkpointing=False,\n",
    "        )\n",
    "\n",
    "        trainer = pl.Trainer(**trainer_kwargs)\n",
    "        trainer.fit(probe, dm)\n",
    "        accuracies[label_choice] = trainer.test(probe, dm, verbose=False)[0]\n",
    "    return accuracies"
   ]
  },
  {
   "cell_type": "code",
   "execution_count": null,
   "metadata": {},
   "outputs": [],
   "source": [
    "cnn = seq_model.base_embedder\n",
    "ds = SetCardBaseDataset(cnn, feature_states_used=[0,1])\n",
    "dm = SetTriplesDataModule(\n",
    "    ds,\n",
    "    batch_size=64,\n",
    "    label_choice=label_choice,\n",
    "    val_split=0.1,\n",
    "    test_split=0.1,\n",
    "    balanced_sampling=True,  # Enable balanced sampling\n",
    "    balanced_subset= False,\n",
    ")\n",
    "dm.setup()"
   ]
  },
  {
   "cell_type": "code",
   "execution_count": null,
   "metadata": {},
   "outputs": [],
   "source": [
    "\n",
    "plot_width = 2\n",
    "plot_heigth = 3.5"
   ]
  },
  {
   "cell_type": "code",
   "execution_count": null,
   "metadata": {},
   "outputs": [],
   "source": [
    "2* plot_width* plot_heigth * 10"
   ]
  },
  {
   "cell_type": "code",
   "execution_count": null,
   "metadata": {},
   "outputs": [],
   "source": [
    "import torch"
   ]
  },
  {
   "cell_type": "code",
   "execution_count": null,
   "metadata": {},
   "outputs": [],
   "source": [
    "40*70"
   ]
  },
  {
   "cell_type": "code",
   "execution_count": null,
   "metadata": {},
   "outputs": [],
   "source": [
    "math.sqrt(4)"
   ]
  },
  {
   "cell_type": "code",
   "execution_count": 105,
   "metadata": {},
   "outputs": [
    {
     "data": {
      "text/plain": [
       "20.0"
      ]
     },
     "execution_count": 105,
     "metadata": {},
     "output_type": "execute_result"
    }
   ],
   "source": [
    "plot_width = 2\n",
    "plot_heigth = 1.75 * plot_width\n",
    "\n",
    "dpi = (40*70)/(plot_width*plot_heigth\n",
    "                *20\n",
    "                )\n",
    "dpi"
   ]
  },
  {
   "cell_type": "code",
   "execution_count": 116,
   "metadata": {},
   "outputs": [
    {
     "data": {
      "text/plain": [
       "51.94805194805195"
      ]
     },
     "execution_count": 116,
     "metadata": {},
     "output_type": "execute_result"
    }
   ],
   "source": [
    "(40*70)/(plot_width*plot_heigth * 7.7) "
   ]
  },
  {
   "cell_type": "code",
   "execution_count": 18,
   "metadata": {},
   "outputs": [
    {
     "data": {
      "text/plain": [
       "0.7142857142857143"
      ]
     },
     "execution_count": 18,
     "metadata": {},
     "output_type": "execute_result"
    }
   ],
   "source": [
    "5 /7"
   ]
  },
  {
   "cell_type": "code",
   "execution_count": 35,
   "metadata": {},
   "outputs": [],
   "source": [
    "def generate_custom_card(\n",
    "    number_index, color_index, pattern_index, shape_index, data_dir=None\n",
    "):\n",
    "\n",
    "    numbers = [1, 2, 3, 4]\n",
    "    colors = [\"red\", \"green\", \"purple\", \"yellow\"]\n",
    "    patterns = [\"empty\", \"striped\", \"solid\", \"plus\"]\n",
    "    shapes = [\"diamond\", \"oval\", \"bar\", \"tie\"]\n",
    "\n",
    "    number = numbers[number_index]\n",
    "    color = colors[color_index]\n",
    "    pattern = patterns[pattern_index]\n",
    "    shape = shapes[shape_index]\n",
    "\n",
    "    plot_width = 5\n",
    "    plot_heigth = 1.4 * plot_width\n",
    "\n",
    "    # don't ask about this\n",
    "    magic_correction_factor = 7.7\n",
    "    dpi = (50 * 70) / (plot_width * plot_heigth * magic_correction_factor)\n",
    "\n",
    "    fig, ax = plt.subplots(\n",
    "        figsize=(plot_width, plot_heigth), dpi=dpi\n",
    "    )  # Adjusted figsize for 40x70 pixels\n",
    "    ax.set_xlim([0, plot_width])\n",
    "    ax.set_ylim([0, plot_heigth])\n",
    "    ax.axis(\"off\")\n",
    "\n",
    "    colors_plt_codes = {\n",
    "        \"red\": \"r\",\n",
    "        \"green\": \"g\",\n",
    "        \"purple\": \"purple\",\n",
    "        \"yellow\": \"yellow\",\n",
    "    }\n",
    "\n",
    "    colors_plt_code = colors_plt_codes[color]\n",
    "\n",
    "    y_spacing = plot_heigth / (number + 1) + 0.05 * plot_heigth\n",
    "\n",
    "    biases = [\n",
    "        plot_heigth * 0.05,\n",
    "        plot_heigth * 0.075,\n",
    "        plot_heigth * 0.1,\n",
    "        plot_heigth * 0.125,\n",
    "    ]\n",
    "    for i in range(number):\n",
    "        x = plot_width * 0.5\n",
    "\n",
    "        y = (i + 1) * y_spacing - biases[number - 1]\n",
    "\n",
    "        if shape == \"diamond\":\n",
    "            shape_object = Polygon(\n",
    "                [\n",
    "                    [x - 0.5 * x, y],\n",
    "                    [x, y + plot_heigth * 0.1],\n",
    "                    [x + 0.5 * x, y],\n",
    "                    [x, y - plot_heigth * 0.1],\n",
    "                ]\n",
    "            )\n",
    "        elif shape == \"oval\":\n",
    "            shape_object = Ellipse(\n",
    "                (x, y), width=plot_width * 0.75, height=plot_heigth * 0.2\n",
    "            )\n",
    "        elif shape == \"bar\":\n",
    "            shape_object = Rectangle(\n",
    "                (x - 0.75 * x, y - plot_heigth * 0.1),\n",
    "                width=plot_width * 0.75,\n",
    "                height=plot_heigth * 0.2,\n",
    "            )\n",
    "        elif shape == \"tie\":\n",
    "            shape_object = Polygon(\n",
    "                [\n",
    "                    [x - 0.5 * x, y - plot_heigth * 0.1],\n",
    "                    [x - 0.5 * x, y + plot_heigth * 0.1],\n",
    "                    [x + 0.5 * x, y - plot_heigth * 0.1],\n",
    "                    [x + 0.5 * x, y + plot_heigth * 0.1],\n",
    "                ]\n",
    "            )\n",
    "\n",
    "        # Set shading\n",
    "        if pattern == \"solid\":\n",
    "            shape_object.set_facecolor(colors_plt_code)\n",
    "        elif pattern == \"striped\":\n",
    "            shape_object.set_facecolor(\"none\")\n",
    "            shape_object.set_edgecolor(colors_plt_code)\n",
    "            shape_object.set_hatch(\"/\")\n",
    "        elif pattern == \"empty\":\n",
    "            shape_object.set_facecolor(\"none\")\n",
    "            shape_object.set_edgecolor(colors_plt_code)\n",
    "        elif pattern == \"plus\":\n",
    "            shape_object.set_facecolor(\"none\")\n",
    "            shape_object.set_edgecolor(colors_plt_code)\n",
    "            shape_object.set_hatch(\"+\")\n",
    "\n",
    "        ax.add_patch(shape_object)\n",
    "\n",
    "    # Draw card border\n",
    "    rect = plt.Rectangle(\n",
    "        (0, 0.05),\n",
    "        plot_width - 0.05,\n",
    "        plot_heigth - 0.05,\n",
    "        linewidth=2,\n",
    "        edgecolor=\"black\",\n",
    "        facecolor=\"none\",\n",
    "    )\n",
    "    ax.add_patch(rect)\n",
    "\n",
    "    if data_dir:\n",
    "        # Save plt fig as png\n",
    "        file_path = os.path.join(\n",
    "            data_dir,\n",
    "            f\"setcard_{number_index}{color_index}{pattern_index}{shape_index}.png\",\n",
    "        )\n",
    "        plt.savefig(\n",
    "            file_path,\n",
    "            dpi=dpi,\n",
    "            bbox_inches=\"tight\",\n",
    "            pad_inches=0.0,\n",
    "        )\n",
    "    else:\n",
    "        plt.show()\n",
    "    plt.close(fig)\n",
    "\n",
    "def generate_all_custom_cards(data_dir=\"data/custom_cards\"):\n",
    "    all_cards = product(range(4), repeat=4)\n",
    "    for card in all_cards:\n",
    "        number_index, color_index, pattern_index, shape_index = card\n",
    "        generate_custom_card(\n",
    "            number_index, color_index, pattern_index, shape_index, data_dir\n",
    "        )\n",
    "\n",
    "generate_all_custom_cards()"
   ]
  },
  {
   "cell_type": "code",
   "execution_count": 32,
   "metadata": {},
   "outputs": [],
   "source": [
    "import os\n",
    "import torch\n",
    "from torch.utils.data import Dataset\n",
    "from matplotlib import image as mpimg\n",
    "import matplotlib.pyplot as plt\n",
    "from matplotlib.patches import Ellipse, Rectangle, Polygon\n",
    "from itertools import product\n",
    "\n"
   ]
  },
  {
   "cell_type": "code",
   "execution_count": 131,
   "metadata": {},
   "outputs": [],
   "source": [
    "data_dir = \"data/custom_cards\""
   ]
  },
  {
   "cell_type": "code",
   "execution_count": 129,
   "metadata": {},
   "outputs": [
    {
     "data": {
      "text/plain": [
       "'data/setcard'"
      ]
     },
     "execution_count": 129,
     "metadata": {},
     "output_type": "execute_result"
    }
   ],
   "source": [
    "os.path.join(data_dir, \"setcard\")"
   ]
  },
  {
   "cell_type": "code",
   "execution_count": 132,
   "metadata": {},
   "outputs": [],
   "source": [
    "card = [0,0,0,0]\n",
    "number_index, color_index, pattern_index, shape_index = card\n",
    "file_path = file_path = os.path.join(\n",
    "            data_dir,\n",
    "            f\"setcard_{number_index}{color_index}{pattern_index}{shape_index}.png\",\n",
    "        )\n",
    "\n",
    "im = mpimg.imread(file_path)\n",
    "cards = torch.from_numpy(im).permute(2, 1, 0)"
   ]
  },
  {
   "cell_type": "code",
   "execution_count": null,
   "metadata": {},
   "outputs": [],
   "source": [
    "pickle_path = \"probe_accuracies_train01_probe01.pkl\"\n",
    "\n",
    "try:\n",
    "    # Load the dictionary from the file\n",
    "    with open(pickle_path, \"rb\") as f:\n",
    "        probe_accuracies = pickle.load(f)\n",
    "except:\n",
    "    probe_accuracies = {}\n",
    "    probe_accuracies[\"cnn\"] = probe_contextual_hidden_states(dm)\n",
    "\n",
    "    abstractor = seq_model.contextual_embedder\n",
    "    seq_model.eval()\n",
    "    with torch.no_grad():\n",
    "        S = abstractor.initial_symbol_sequence[:, :seq_len]\n",
    "        dm.triples_dataset.triples_hidden_states = S\n",
    "    dm.triples_dataset.set_get_cards(True)\n",
    "\n",
    "    for i, layer in enumerate(abstractor.layers):\n",
    "        precompute_Rel_attention_hidden_states(dm, layer)\n",
    "        probe_accuracies[f\"layer {i}: attention\"] = probe_contextual_hidden_states(dm)\n",
    "        \n",
    "        precompute_ff_hidden_states(dm, layer)\n",
    "        probe_accuracies[f\"layer {i}: fnn\"] = probe_contextual_hidden_states(dm)\n",
    "\n",
    "\n",
    "    # Save the dictionary using pickle\n",
    "    with open(\"probe_accuracies.pkl\", \"wb\") as f:\n",
    "        pickle.dump(probe_accuracies, f)\n",
    "\n",
    "else:\n",
    "    # Load the dictionary from the file\n",
    "    with open(pickle_path, \"rb\") as f:\n",
    "        probe_accuracies = pickle.load(f)\n",
    "\n",
    "# Print the loaded dictionary\n",
    "print(probe_accuracies)"
   ]
  },
  {
   "cell_type": "code",
   "execution_count": null,
   "metadata": {},
   "outputs": [],
   "source": [
    "# Extract tasks and layers\n",
    "tasks = list(probe_accuracies['cnn'].keys())\n",
    "layers = list(probe_accuracies.keys())\n",
    "\n",
    "# Create subplots for each task\n",
    "fig, axes = plt.subplots(len(tasks), 1, figsize=(5, 2 * len(tasks)), sharex=True)\n",
    "\n",
    "for i, task in enumerate(tasks):\n",
    "    accuracies = [probe_accuracies[layer][task]['test_acc'] for layer in layers]\n",
    "    axes[i].bar(layers, accuracies)\n",
    "    axes[i].set_ylabel('Accuracy')\n",
    "    axes[i].set_title(f'Task: {task}')\n",
    "    axes[i].set_ylim([0, 1.1])  # Set y-axis limits for better visualization\n",
    "\n",
    "plt.xlabel('Layer')\n",
    "plt.tight_layout()\n",
    "plt.show()"
   ]
  }
 ],
 "metadata": {
  "kernelspec": {
   "display_name": "LTN",
   "language": "python",
   "name": "python3"
  },
  "language_info": {
   "codemirror_mode": {
    "name": "ipython",
    "version": 3
   },
   "file_extension": ".py",
   "mimetype": "text/x-python",
   "name": "python",
   "nbconvert_exporter": "python",
   "pygments_lexer": "ipython3",
   "version": "3.9.19"
  }
 },
 "nbformat": 4,
 "nbformat_minor": 2
}
