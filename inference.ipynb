{
 "cells": [
  {
   "cell_type": "code",
   "execution_count": 2,
   "metadata": {},
   "outputs": [],
   "source": [
    "from custom_fuzzy_ops import ImpliesReichenbachSigmoidal\n",
    "import torch\n",
    "import torch.nn as nn\n",
    "import numpy as np\n",
    "import matplotlib.pyplot as plt\n",
    "import ltn\n",
    "from globals_ltn import Godel, KleeneDienes, Goguen, Reichenbach, Luk\n",
    "\n",
    "import pytorch_lightning as pl"
   ]
  },
  {
   "cell_type": "code",
   "execution_count": 9,
   "metadata": {},
   "outputs": [],
   "source": [
    "class MLP(pl.LightningModule):\n",
    "    def __init__(self, input_size, hidden_sizes, output_size):\n",
    "        super().__init__()\n",
    "        self.input_size = input_size\n",
    "        self.hidden_sizes = hidden_sizes\n",
    "        self.output_size = output_size\n",
    "        self.sigmoid = nn.Sigmoid()\n",
    "\n",
    "        self.layers = nn.ModuleList()\n",
    "        self.layers.append(nn.Linear(input_size, hidden_sizes[0]))\n",
    "        for hidden_size_in, hidden_size_out in zip(hidden_sizes, hidden_sizes[1:]):\n",
    "            self.layers.append(nn.Linear(hidden_size_in, hidden_size_out))\n",
    "        self.layers.append(nn.Linear(hidden_sizes[-1], output_size))\n",
    "\n",
    "    def forward(self, x):\n",
    "        for layer in self.layers[:-1]:\n",
    "            x = torch.relu(layer(x))\n",
    "        x = self.layers[-1](x)\n",
    "        x = self.sigmoid(x)\n",
    "        return x"
   ]
  },
  {
   "cell_type": "code",
   "execution_count": 35,
   "metadata": {},
   "outputs": [],
   "source": [
    "class LTNDataModule(pl.LightningDataModule):\n",
    "    def __init__(self, constants, positive_examples, negative_examples, axioms):\n",
    "        super().__init__()\n",
    "        self.constants = constants\n",
    "        self.positive_examples = positive_examples\n",
    "        self.negative_examples = negative_examples\n",
    "        self.axioms = axioms\n",
    "\n",
    "    def setup(self, stage = None):\n",
    "        # Convert data to PyTorch tensors\n",
    "        self.constants_tensor = torch.tensor(self.constants)\n",
    "        self.positive_examples_tensor = torch.tensor(self.positive_examples)\n",
    "        self.negative_examples_tensor = torch.tensor(self.negative_examples)\n",
    "\n",
    "    def train_dataloader(self):\n",
    "        # Create a dataloader for training\n",
    "        return torch.utils.data.DataLoader(\n",
    "            self.constants_tensor,\n",
    "            batch_size=1,\n",
    "            shuffle=True\n",
    "        )\n",
    "\n",
    "    def val_dataloader(self):\n",
    "        # Create a dataloader for validation (optional)\n",
    "        return torch.utils.data.DataLoader(\n",
    "            self.constants_tensor,\n",
    "            batch_size=1,\n",
    "            shuffle=False\n",
    "        )\n",
    "\n",
    "    def test_dataloader(self):\n",
    "        # Create a dataloader for testing (optional)\n",
    "        return torch.utils.data.DataLoader(\n",
    "            self.constants_tensor,\n",
    "            batch_size=1,\n",
    "            shuffle=False\n",
    "        )\n",
    "\n",
    "    def prepare_axioms(self):\n",
    "        # Convert axioms to LTN formulas\n",
    "        ltn_axioms = []\n",
    "        for axiom in self.axioms:\n",
    "            # Parse the axiom string and create an LTN formula\n",
    "            ltn_axiom = ltn.parse(axiom)\n",
    "            ltn_axioms.append(ltn_axiom)\n",
    "        return ltn_axioms"
   ]
  },
  {
   "cell_type": "code",
   "execution_count": null,
   "metadata": {},
   "outputs": [],
   "source": [
    "constants"
   ]
  },
  {
   "cell_type": "code",
   "execution_count": 37,
   "metadata": {},
   "outputs": [
    {
     "ename": "TypeError",
     "evalue": "__init__() missing 4 required positional arguments: 'constants', 'positive_examples', 'negative_examples', and 'axioms'",
     "output_type": "error",
     "traceback": [
      "\u001b[0;31m---------------------------------------------------------------------------\u001b[0m",
      "\u001b[0;31mTypeError\u001b[0m                                 Traceback (most recent call last)",
      "Cell \u001b[0;32mIn[37], line 1\u001b[0m\n\u001b[0;32m----> 1\u001b[0m \u001b[43mLTNDataModule\u001b[49m\u001b[43m(\u001b[49m\u001b[43m)\u001b[49m\n",
      "\u001b[0;31mTypeError\u001b[0m: __init__() missing 4 required positional arguments: 'constants', 'positive_examples', 'negative_examples', and 'axioms'"
     ]
    }
   ],
   "source": [
    "LTNDataModule()"
   ]
  },
  {
   "cell_type": "code",
   "execution_count": 15,
   "metadata": {},
   "outputs": [],
   "source": [
    "input_size = 8\n",
    "hidden_sizes = [8]\n",
    "output_size = 1\n",
    "model = MLP( input_size, hidden_sizes, output_size)\n",
    "P = ltn.Predicate(model)"
   ]
  },
  {
   "cell_type": "code",
   "execution_count": 16,
   "metadata": {},
   "outputs": [
    {
     "data": {
      "text/plain": [
       "Predicate(model=MLP(\n",
       "  (sigmoid): Sigmoid()\n",
       "  (layers): ModuleList(\n",
       "    (0): Linear(in_features=8, out_features=8, bias=True)\n",
       "    (1): Linear(in_features=8, out_features=1, bias=True)\n",
       "  )\n",
       "))"
      ]
     },
     "execution_count": 16,
     "metadata": {},
     "output_type": "execute_result"
    }
   ],
   "source": [
    "P"
   ]
  },
  {
   "cell_type": "code",
   "execution_count": 32,
   "metadata": {},
   "outputs": [
    {
     "data": {
      "text/plain": [
       "Variable(value=tensor([[0.6836, 0.9543, 0.1705, 0.1109, 0.0632, 0.0883, 0.5481, 0.4561],\n",
       "        [0.6227, 0.0242, 0.1598, 0.6791, 0.2878, 0.1410, 0.1140, 0.6312]]), free_vars=['x1'])"
      ]
     },
     "execution_count": 32,
     "metadata": {},
     "output_type": "execute_result"
    }
   ],
   "source": [
    "a = ltn.Constant(torch.rand(8))\n",
    "x = ltn.Variable('x1', torch.rand(2,8))\n",
    "x"
   ]
  },
  {
   "cell_type": "code",
   "execution_count": 33,
   "metadata": {},
   "outputs": [
    {
     "data": {
      "text/plain": [
       "LTNObject(value=tensor([0.5668, 0.5748], grad_fn=<ViewBackward0>), free_vars=['x1'])"
      ]
     },
     "execution_count": 33,
     "metadata": {},
     "output_type": "execute_result"
    }
   ],
   "source": [
    "P(x)"
   ]
  }
 ],
 "metadata": {
  "kernelspec": {
   "display_name": "LTN",
   "language": "python",
   "name": "python3"
  },
  "language_info": {
   "codemirror_mode": {
    "name": "ipython",
    "version": 3
   },
   "file_extension": ".py",
   "mimetype": "text/x-python",
   "name": "python",
   "nbconvert_exporter": "python",
   "pygments_lexer": "ipython3",
   "version": "3.9.19"
  }
 },
 "nbformat": 4,
 "nbformat_minor": 2
}
