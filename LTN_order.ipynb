{
 "cells": [
  {
   "cell_type": "code",
   "execution_count": 21,
   "metadata": {
    "collapsed": false,
    "pycharm": {
     "name": "#%%\n"
    }
   },
   "outputs": [],
   "source": [
    "import torch\n",
    "import torch.nn as nn\n",
    "import torch.nn.functional as F\n",
    "import numpy as np\n",
    "import ltn\n",
    "import matplotlib.pyplot as plt\n",
    "import random\n",
    "import os\n",
    "\n",
    "from utils_order import adjacency_anti_transitive, adjacency_triangular_lattice, adjacency_lattice, \\\n",
    "adjacency_total_order, adjacency_from_string, get_pairs_adjacency, get_samples_adjacency, \\\n",
    "get_constants, get_pairs_total_order, get_samples_total_order, get_eye_3D, get_sat, \\\n",
    "BaselineRelationalModel, BaselineRelationalModelConcat, AbstractorOrderModel, BaselineRelationalIndependentModel, plot_mp\n",
    "\n",
    "from custom_fuzzy_ops import ImpliesReichenbachSigmoidal"
   ]
  },
  {
   "cell_type": "code",
   "execution_count": 22,
   "metadata": {},
   "outputs": [],
   "source": [
    "class InvModel(nn.Module):\n",
    "    def __init__(self, invariance=\"symmetric\", hidden_sizes=[16], Win=8, Wout=8):\n",
    "        super(InvModel, self).__init__()\n",
    "\n",
    "        self.invariance = invariance\n",
    "\n",
    "        # Determine input size based on invariance type\n",
    "        if self.invariance == \"none\":\n",
    "            input_size = Wout * 2  # No invariance, concatenate x and y\n",
    "        else:\n",
    "            Wout = Wout * 2  # Double Wout for invariance\n",
    "            input_size = Wout\n",
    "\n",
    "        self.W = nn.Linear(in_features=Win, out_features=Wout)\n",
    "\n",
    "        # Initialize hidden layers\n",
    "        self.hidden_sizes = hidden_sizes\n",
    "        layers = []\n",
    "        for hidden_size in self.hidden_sizes:\n",
    "            layers.append(nn.Linear(input_size, hidden_size, bias=False))\n",
    "            layers.append(nn.Tanh())\n",
    "            input_size = hidden_size\n",
    "        layers.append(nn.Linear(input_size, 1, bias=False))  # Output layer\n",
    "        self.layers = nn.Sequential(*layers)\n",
    "\n",
    "        self.sigmoid = nn.Sigmoid()\n",
    "\n",
    "    def forward(self, x, y):\n",
    "        x = self.W(x)\n",
    "        y = self.W(y)\n",
    "        if self.invariance == \"symmetric\":\n",
    "            xy = x + y\n",
    "        elif self.invariance == \"asymmetric\":\n",
    "            xy = x - y\n",
    "        elif self.invariance == \"none\":\n",
    "            xy = torch.cat([x, y], dim=-1)\n",
    "        xy = self.layers(xy)\n",
    "        truth = self.sigmoid(xy)\n",
    "        return truth"
   ]
  },
  {
   "cell_type": "code",
   "execution_count": 23,
   "metadata": {
    "collapsed": false,
    "pycharm": {
     "name": "#%%\n"
    }
   },
   "outputs": [],
   "source": [
    "Not = ltn.Connective(ltn.fuzzy_ops.NotStandard())\n",
    "And = ltn.Connective(ltn.fuzzy_ops.AndProd())\n",
    "Or = ltn.Connective(ltn.fuzzy_ops.OrProbSum())\n",
    "Implies = ltn.Connective(ltn.fuzzy_ops.ImpliesReichenbach())\n",
    "Equiv = ltn.Connective(ltn.fuzzy_ops.Equiv(ltn.fuzzy_ops.AndProd(), ltn.fuzzy_ops.ImpliesReichenbach()))\n",
    "Forall = ltn.Quantifier(ltn.fuzzy_ops.AggregPMeanError(p=2), quantifier=\"f\")\n",
    "Exists = ltn.Quantifier(ltn.fuzzy_ops.AggregPMean(p=6), quantifier=\"e\")"
   ]
  },
  {
   "cell_type": "code",
   "execution_count": 24,
   "metadata": {
    "collapsed": false,
    "pycharm": {
     "name": "#%%\n"
    }
   },
   "outputs": [],
   "source": [
    "def train(model, constants_tensor, epoch_steps=50, epochs=1000, reflective=True, transitive=True, anti_transitive=False,\n",
    "          symmetric=False,\n",
    "          anti_symmetric=True, \n",
    "          connected=True,\n",
    "          LEM=True,\n",
    "          neg_examples=None, pos_examples=None, lr=0.001,\n",
    "          switch=False,\n",
    "          Implies = ltn.Connective(ltn.fuzzy_ops.ImpliesReichenbach()),\n",
    "          Forall = ltn.Quantifier(ltn.fuzzy_ops.AggregPMeanError(p=2), quantifier=\"f\"),\n",
    "          Forall_custom=ltn.Quantifier(agg_op=ltn.fuzzy_ops.AggregPMeanError(p=10, stable=True), quantifier='f'),\n",
    "          first_run=True,\n",
    "          sat_agg=ltn.fuzzy_ops.SatAgg(),\n",
    "          ground_truth=None,\n",
    "          verbose=True):\n",
    "    \n",
    "    \n",
    "    heatmap_data = []\n",
    "    train_loss = []\n",
    "\n",
    "    if first_run:\n",
    "        x1 = ltn.Variable(\"x1\", constants_tensor)\n",
    "        x2 = ltn.Variable(\"x2\", constants_tensor)\n",
    "        query = model(x1,x2).value.detach().numpy()\n",
    "        heatmap_data.append(query)\n",
    "\n",
    "\n",
    "    # we need to learn the parameters of the predicate C\n",
    "    optimizer = torch.optim.Adam(model.parameters(), lr=lr)\n",
    "\n",
    "    last_loss = np.inf\n",
    "    \n",
    "\n",
    "    for epoch in range(epochs):\n",
    "        optimizer.zero_grad()\n",
    "\n",
    "        x1 = ltn.Variable(\"x1\", constants_tensor)\n",
    "        x2 = ltn.Variable(\"x2\", constants_tensor)\n",
    "        x3 = ltn.Variable(\"x3\", constants_tensor)\n",
    "\n",
    "        fuzzy_theory = []\n",
    "        fuzzy_weighted = []\n",
    "        if pos_examples is not None:\n",
    "            pos_x = ltn.Variable(\"pos_x\", constants_tensor[pos_examples[:,0]])\n",
    "            pos_y = ltn.Variable(\"pos_y\", constants_tensor[pos_examples[:,1]])\n",
    "            pos_x, pos_y = ltn.diag(pos_x, pos_y)\n",
    "            axiom_pos = Forall([pos_x, pos_y], model(pos_x, pos_y))\n",
    "            fuzzy_theory.append(axiom_pos)\n",
    "        if neg_examples is not None:\n",
    "            neg_x = ltn.Variable(\"neg_x\", constants_tensor[neg_examples[:,0]])\n",
    "            neg_y = ltn.Variable(\"neg_y\", constants_tensor[neg_examples[:,1]])\n",
    "            neg_x, neg_y = ltn.diag(neg_x, neg_y)\n",
    "            axiom_neg = Forall([neg_x, neg_y], Not(model(neg_x, neg_y)))\n",
    "            fuzzy_theory.append(axiom_neg)\n",
    "\n",
    "        if reflective:\n",
    "            fuzzy_theory.append(Forall(x1, model(x1, x1)))\n",
    "        if transitive:\n",
    "            eye_3D = torch.zeros(num_objects, num_objects, num_objects)\n",
    "            for i in range(num_objects):\n",
    "                eye_3D[i, i, i] = 1\n",
    "            eye_3D = eye_3D.bool()\n",
    "            fuzzy_weighted.append(\n",
    "                Forall_custom([x1, x2, x3], Implies(And(model(x1, x2), model(x2, x3)), model(x1, x3)),\n",
    "                                              cond_vars=[x1, x2, x3],\n",
    "                                              cond_fn=lambda x, y, z: eye_3D))\n",
    "\n",
    "                                            \n",
    "\n",
    "\n",
    "        if anti_transitive:\n",
    "            fuzzy_weighted.append(Forall_custom([x1, x2, x3], Implies(And(model(x1, x2), model(x2, x3)), Not(model(x1, x3))),) )\n",
    "\n",
    "        if symmetric:\n",
    "            fuzzy_theory.append(Forall_custom([x1, x2],\n",
    "                Implies(model(x1, x2), model(x2, x1)),\n",
    "                cond_vars=[x1, x2],\n",
    "                cond_fn=lambda x, y: ~torch.eye(num_objects, dtype=bool),\n",
    "                ))\n",
    "\n",
    "        if anti_symmetric:\n",
    "            fuzzy_theory.append(Forall([x1, x2],\n",
    "                Implies(model(x1, x2), Not(model(x2, x1))),\n",
    "                cond_vars=[x1, x2],\n",
    "                cond_fn=lambda x, y: ~torch.eye(num_objects, dtype=bool),\n",
    "                ))\n",
    "            \n",
    "        if connected:\n",
    "            axiom_connected = Forall_custom([x1, x2],\n",
    "                Or(model(x1, x2), model(x2, x1)),\n",
    "                )\n",
    "\n",
    "            fuzzy_theory.append(axiom_connected)\n",
    "        \n",
    "        if LEM:\n",
    "            axiom_lem = Forall_custom([x1, x2],\n",
    "                Or(model(x1, x2), Not(model(x1, x2))),\n",
    "                )\n",
    "            # axiom_lem = Forall_custom([x1, x2],\n",
    "            #     Implies(Not(model(x1, x2)), model(x1, x2)),\n",
    "            #     )\n",
    "\n",
    "            fuzzy_theory.append(axiom_lem)\n",
    "\n",
    "        weighted = False\n",
    "        if weighted:\n",
    "            sat_weight = 0.9\n",
    "            satisfiablity = sat_weight * sat_agg(*fuzzy_theory) + (1 - sat_weight) * sat_agg(*fuzzy_weighted)\n",
    "        else:\n",
    "            fuzzy_theory += fuzzy_weighted\n",
    "            satisfiablity = sat_agg(*fuzzy_theory)\n",
    "\n",
    "\n",
    "        loss = 1. - satisfiablity\n",
    "        loss.backward()\n",
    "        optimizer.step()\n",
    "        \n",
    "        if epoch%epoch_steps == 0:\n",
    "            with torch.no_grad():\n",
    "                train_loss.append(loss.item())\n",
    "                if verbose:\n",
    "                    print(\"Epoch %d: Train Sat Level %.3f \"%(epoch, satisfiablity))\n",
    "                query = model(x1,x2).value.detach().numpy()\n",
    "                heatmap_data.append(query)\n",
    "                if ground_truth is not None:\n",
    "                    pred = torch.tensor(query > 0.5)\n",
    "                    val_acc = (pred == ground_truth).sum() / (ground_truth.shape[0]**2)\n",
    "                    if verbose or True:\n",
    "                        print(\"Overall acc %.3f \"%(val_acc))\n",
    "\n",
    "                    mask = ~torch.eye(object_dim).bool()\n",
    "                    if verbose:\n",
    "                        print(\"Overall sat %.3f\"%(get_sat(query, ground_truth, mask=mask, p=1)))\n",
    "\n",
    "                # if np.allclose(loss.item(), last_loss, atol=1e-04, equal_nan=False) and epoch>25:\n",
    "                # # 1 - loss > 0.995 or \n",
    "                \n",
    "                #     if switch:\n",
    "                #         print()\n",
    "                #         print(epoch/epoch_steps)\n",
    "                #         torch.save(model, f\"checkpoints/chain_{object_dim}.PT\")\n",
    "                #         # break\n",
    "                    \n",
    "                #         switch = False\n",
    "                #         transitive = True\n",
    "                #         # Forall = ltn.Quantifier(ltn.fuzzy_ops.AggregPMeanError(p=6), quantifier=\"f\")\n",
    "                #     else:\n",
    "                #         break\n",
    "\n",
    "\n",
    "            \n",
    "            \n",
    "            # last_loss = loss\n",
    "    if verbose:\n",
    "        print(\"Training finished at Epoch %d with Sat Level %.3f\" %(epoch, 1 - loss))\n",
    "    \n",
    "    return heatmap_data, train_loss, "
   ]
  },
  {
   "cell_type": "code",
   "execution_count": 25,
   "metadata": {},
   "outputs": [],
   "source": [
    "def set_training(num_objects = 32, object_dim = None, feature_type = \"onehot\" ,pos_chain_depth = 1,\n",
    "    train_split_pos = 0.,\n",
    "    train_split_neg = 0.,):\n",
    "    if object_dim is None:\n",
    "        object_dim = num_objects\n",
    "\n",
    "    # adjacency = adjacency_anti_transitive(num_objects)\n",
    "    # adjacency = adjacency_triangular_lattice(num_objects)\n",
    "    # adjacency = adjacency_lattice(num_objects, \n",
    "    #                               dim=2,\n",
    "    #                             #   dim=int(np.log2(num_objects))\n",
    "    #                             distance=3,\n",
    "    #                             periodic=False\n",
    "    #                               )\n",
    "    # adjacency = adjacency_from_string(num_objects, \"O\")\n",
    "    adjacency = adjacency_total_order(num_objects)\n",
    "\n",
    "\n",
    "    # plt.imshow(adjacency, cmap='hot')\n",
    "    # plt.show()\n",
    "    # nx.draw(G, with_labels=True, arrows=True, pos=pos)\n",
    "\n",
    "\n",
    "    constants, constants_tensor = get_constants(num_objects, object_dim, feature_type)\n",
    "    # pos_pairs, neg_pairs = get_pairs_adjacency(adjacency=adjacency)\n",
    "    # pos_sample, neg_sample = get_samples_adjacency(pos_pairs, neg_pairs, train_split_pos, train_split_neg)\n",
    "\n",
    "    pos_pairs, neg_pairs = get_pairs_total_order(num_objects)\n",
    "    pos_sample, neg_sample = get_samples_total_order(num_objects, pos_pairs, neg_pairs, pos_chain_depth, train_split_pos, train_split_neg)\n",
    "    eye_3D = get_eye_3D(num_objects)\n",
    "    return num_objects, object_dim, adjacency, constants, constants_tensor, pos_pairs, neg_pairs, pos_sample, neg_sample, eye_3D"
   ]
  },
  {
   "cell_type": "code",
   "execution_count": 52,
   "metadata": {},
   "outputs": [],
   "source": [
    "(num_objects, object_dim, adjacency, \n",
    " constants, constants_tensor, pos_pairs, \n",
    " neg_pairs, pos_sample, neg_sample, \n",
    " eye_3D) = set_training(num_objects = 32, object_dim = None, \n",
    "                        # feature_type = \"index\" ,\n",
    "                        feature_type = \"onehot\" ,\n",
    "                        pos_chain_depth = False,\n",
    "                        train_split_pos = 0.05,\n",
    "                        train_split_neg = 0.05)\n",
    "\n",
    "pos_examples = pos_sample \n",
    "neg_examples = neg_sample\n",
    "\n",
    "# pos_examples = torch.Tensor([[i, i+1] for i in range(8-1)]).int()[[0,2,4,5,6]]\n",
    "# neg_examples = torch.Tensor([[i+2, i] for i in range(8-2)]).int()\n",
    "\n",
    "train_kwargs = dict(\n",
    "    epochs=100, epoch_steps=5,\n",
    "    reflective=False,\n",
    "    transitive=True,\n",
    "    anti_transitive=False,\n",
    "    symmetric=False,\n",
    "    anti_symmetric=False,\n",
    "    connected=False,\n",
    "    LEM=False,\n",
    "    pos_examples=pos_examples,\n",
    "    neg_examples=neg_examples,\n",
    "    # lr=0.01,\n",
    "    lr=0.01,\n",
    "    constants_tensor=constants_tensor,\n",
    "    switch=False,\n",
    "    ground_truth=adjacency\n",
    ")"
   ]
  },
  {
   "cell_type": "code",
   "execution_count": 55,
   "metadata": {},
   "outputs": [
    {
     "name": "stdout",
     "output_type": "stream",
     "text": [
      "Overall acc 0.547 \n",
      "Overall acc 0.680 \n",
      "Overall acc 0.744 \n",
      "Overall acc 0.772 \n",
      "Overall acc 0.792 \n",
      "Overall acc 0.792 \n",
      "Overall acc 0.779 \n",
      "Overall acc 0.776 \n",
      "Overall acc 0.769 \n",
      "Overall acc 0.771 \n",
      "Overall acc 0.771 \n",
      "Overall acc 0.771 \n",
      "Overall acc 0.771 \n",
      "Overall acc 0.771 \n",
      "Overall acc 0.771 \n",
      "Overall acc 0.771 \n",
      "Overall acc 0.770 \n",
      "Overall acc 0.771 \n",
      "Overall acc 0.771 \n",
      "Overall acc 0.771 \n"
     ]
    }
   ],
   "source": [
    "first_run = True\n",
    "if first_run:\n",
    "    heatmap_data_abstr = []\n",
    "    train_loss=[]\n",
    "    model = ltn.Predicate(InvModel(invariance=\"none\", hidden_sizes=[32,32], Win=object_dim, Wout=8))\n",
    "    # model = ltn.Predicate(InvModel(invariance=\"asymmetric\", hidden_sizes=[32,32], Win=object_dim, Wout=8))\n",
    "\n",
    "heatmap_data_abstr_last, train_loss_last = train(model, **train_kwargs, first_run=first_run, verbose=False)\n",
    "heatmap_data_abstr += heatmap_data_abstr_last\n",
    "train_loss += train_loss_last"
   ]
  },
  {
   "cell_type": "code",
   "execution_count": 56,
   "metadata": {},
   "outputs": [
    {
     "data": {
      "application/vnd.jupyter.widget-view+json": {
       "model_id": "1ff38ae92205437fa402a68b78896f62",
       "version_major": 2,
       "version_minor": 0
      },
      "text/plain": [
       "interactive(children=(IntSlider(value=0, description='Frame', max=20), Output()), _dom_classes=('widget-intera…"
      ]
     },
     "metadata": {},
     "output_type": "display_data"
    },
    {
     "data": {
      "image/png": "[encoded data removed]",
      "text/plain": [
       "<Figure size 640x480 with 1 Axes>"
      ]
     },
     "metadata": {},
     "output_type": "display_data"
    }
   ],
   "source": [
    "plot_mp(heatmap_data_abstr, pos_examples=pos_examples, neg_examples=neg_examples)\n",
    "plt.plot(train_loss)\n",
    "plt.show()"
   ]
  },
  {
   "cell_type": "code",
   "execution_count": 49,
   "metadata": {},
   "outputs": [
    {
     "data": {
      "application/vnd.jupyter.widget-view+json": {
       "model_id": "27cc8956739e4e85ba94678c467f6749",
       "version_major": 2,
       "version_minor": 0
      },
      "text/plain": [
       "interactive(children=(IntSlider(value=0, description='Frame', max=20), Output()), _dom_classes=('widget-intera…"
      ]
     },
     "metadata": {},
     "output_type": "display_data"
    },
    {
     "data": {
      "text/plain": [
       "[<matplotlib.lines.Line2D at 0x78430ad04160>]"
      ]
     },
     "execution_count": 49,
     "metadata": {},
     "output_type": "execute_result"
    },
    {
     "data": {
      "image/png": "[encoded data removed]",
      "text/plain": [
       "<Figure size 640x480 with 1 Axes>"
      ]
     },
     "metadata": {},
     "output_type": "display_data"
    }
   ],
   "source": [
    "plot_mp(heatmap_data_abstr, pos_examples=pos_examples, neg_examples=neg_examples)\n",
    "plt.plot(train_loss)"
   ]
  },
  {
   "cell_type": "code",
   "execution_count": 30,
   "metadata": {},
   "outputs": [
    {
     "ename": "AssertionError",
     "evalue": "",
     "output_type": "error",
     "traceback": [
      "\u001b[0;31m---------------------------------------------------------------------------\u001b[0m",
      "\u001b[0;31mAssertionError\u001b[0m                            Traceback (most recent call last)",
      "Cell \u001b[0;32mIn[30], line 1\u001b[0m\n\u001b[0;32m----> 1\u001b[0m \u001b[38;5;28;01massert\u001b[39;00m \u001b[38;5;28;01mFalse\u001b[39;00m\n",
      "\u001b[0;31mAssertionError\u001b[0m: "
     ]
    }
   ],
   "source": [
    "assert False"
   ]
  },
  {
   "cell_type": "code",
   "execution_count": null,
   "metadata": {},
   "outputs": [],
   "source": [
    "orderabstractor_kwargs = {\n",
    "    \"num_layers\": 1,\n",
    "    \"norm\": None,  # Example normalization layer\n",
    "    \"use_pos_embedding\": False,\n",
    "    \"use_learned_symbols\": False,\n",
    "    \"learn_symbol_per_position\": False,\n",
    "    \"use_symbolic_attention\": True,\n",
    "    \"object_dim\": object_dim,\n",
    "    \"symbol_dim\": 64,  # Using a different symbol dimension\n",
    "    \"num_heads\": 1,\n",
    "    \"ff_dim\": 32,\n",
    "    \"dropout\": 0.1,\n",
    "    \"MHA_kwargs\": {\n",
    "        \"use_bias\": False,\n",
    "        \"activation\": torch.nn.Identity(),  # Different activation function\n",
    "        # \"activation\": nn.Softmax(-1),\n",
    "        # \"activation\": nn.Sigmoid(),\n",
    "        # \"activation\": sparsemax,\n",
    "        \"use_scaling\": True,\n",
    "        \"shared_kv_proj\": True,\n",
    "    },\n",
    "}\n",
    "\n",
    "first_run = True\n",
    "if first_run:\n",
    "    heatmap_data_abstr = []\n",
    "    train_loss=[]\n",
    "    AOM = ltn.Predicate(AbstractorOrderModel(object_dim, orderabstractor_kwargs))\n",
    "heatmap_data_abstr_last, train_loss_last = train(AOM, **train_kwargs, first_run=first_run)\n",
    "heatmap_data_abstr += heatmap_data_abstr_last\n",
    "train_loss += train_loss_last"
   ]
  },
  {
   "cell_type": "code",
   "execution_count": null,
   "metadata": {},
   "outputs": [],
   "source": [
    "assert False"
   ]
  },
  {
   "cell_type": "code",
   "execution_count": null,
   "metadata": {},
   "outputs": [],
   "source": [
    "train_kwargs[\"Forall\"] = ltn.Quantifier(agg_op=ltn.fuzzy_ops.AggregPMeanError(p=10, stable=True), quantifier='f')\n",
    "train_kwargs[\"Forall_custom\"]= ltn.Quantifier(agg_op=ltn.fuzzy_ops.AggregPMeanError(p=10, stable=True), quantifier='f')\n",
    "train_kwargs[\"sat_agg\"] = ltn.fuzzy_ops.SatAgg(agg_op=ltn.fuzzy_ops.AggregPMeanError(p=2, stable=True))\n",
    "train_kwargs[\"Implies\"] = ltn.Connective(ltn.fuzzy_ops.ImpliesReichenbach())\n",
    "# train_kwargs[\"Implies\"] = ltn.Connective(ltn.fuzzy_ops.ImpliesGodel())\n",
    "\n",
    "# train_kwargs[\"Implies\"] = list(Implies_dict.values())[1]\n",
    "print(train_kwargs[\"Implies\"])\n",
    "\n",
    "\n",
    "first_run = True\n",
    "if first_run:\n",
    "    heatmap_data_ind = []\n",
    "    train_loss=[]\n",
    "    model = BaselineRelationalIndependentModel(object_dim)\n",
    "    shape = model.lin.weight.shape\n",
    "    model.lin.weight = torch.nn.Parameter(torch.ones(shape)-0.+torch.rand(shape), requires_grad=True)\n",
    "    AOM = ltn.Predicate(model)\n",
    "heatmap_data_ind_last, train_loss_last = train(AOM, **train_kwargs, first_run=first_run)\n",
    "heatmap_data_ind += heatmap_data_ind_last\n",
    "train_loss += train_loss_last\n"
   ]
  },
  {
   "cell_type": "code",
   "execution_count": null,
   "metadata": {},
   "outputs": [],
   "source": [
    "plot_mp(heatmap_data_ind, pos_examples=pos_examples, neg_examples=neg_examples)\n",
    "plt.plot(train_loss)"
   ]
  },
  {
   "cell_type": "code",
   "execution_count": null,
   "metadata": {},
   "outputs": [],
   "source": [
    "assert False"
   ]
  },
  {
   "cell_type": "code",
   "execution_count": null,
   "metadata": {},
   "outputs": [],
   "source": [
    "(num_objects, object_dim, adjacency, \n",
    " constants, constants_tensor, pos_pairs, \n",
    " neg_pairs, pos_sample, neg_sample, \n",
    " eye_3D) = set_training(num_objects = 32, object_dim = None, \n",
    "                        # feature_type = \"index\" ,\n",
    "                        feature_type = \"onehot\" ,\n",
    "                        pos_chain_depth = 1,\n",
    "                        train_split_pos = 0,\n",
    "                        train_split_neg = 0.1)\n",
    "\n",
    "pos_examples = pos_sample \n",
    "neg_examples = neg_sample\n",
    "\n",
    "# pos_examples = torch.Tensor([[i, i+1] for i in range(8-1)]).int()[[0,2,4,5,6]]\n",
    "# neg_examples = torch.Tensor([[i+2, i] for i in range(8-2)]).int()\n",
    "\n",
    "train_kwargs = dict(\n",
    "    epochs=100, epoch_steps=5,\n",
    "    reflective=False,\n",
    "    transitive=True,\n",
    "    anti_transitive=False,\n",
    "    symmetric=False,\n",
    "    anti_symmetric=True,\n",
    "    connected=True,\n",
    "    LEM=False,\n",
    "    pos_examples=pos_examples,\n",
    "    neg_examples=neg_examples,\n",
    "    # lr=0.01,\n",
    "    lr=0.01,\n",
    "    constants_tensor=constants_tensor,\n",
    "    switch=False,\n",
    "    ground_truth=adjacency\n",
    ")"
   ]
  },
  {
   "cell_type": "code",
   "execution_count": null,
   "metadata": {},
   "outputs": [],
   "source": [
    "train_kwargs[\"Forall\"] = ltn.Quantifier(agg_op=ltn.fuzzy_ops.AggregPMeanError(p=2, stable=True), quantifier='f')\n",
    "train_kwargs[\"Forall_custom\"]= ltn.Quantifier(agg_op=ltn.fuzzy_ops.AggregPMeanError(p=10, stable=True), quantifier='f')\n",
    "train_kwargs[\"sat_agg\"] = ltn.fuzzy_ops.SatAgg(agg_op=ltn.fuzzy_ops.AggregPMeanError(p=2, stable=True))\n",
    "train_kwargs[\"Implies\"] = ltn.Connective(ltn.fuzzy_ops.ImpliesReichenbach())\n",
    "\n",
    "\n",
    "first_run = True\n",
    "if first_run:\n",
    "    heatmap_data_abstr = []\n",
    "    AOM = ltn.Predicate(AbstractorOrderModel(object_dim, orderabstractor_kwargs))\n",
    "    # AOM = ltn.Predicate(BaselineRelationalModelConcat(object_dim, object_dim))\n",
    "\n",
    "heatmap_data_abstr += train(AOM, **train_kwargs, first_run=first_run)\n"
   ]
  },
  {
   "cell_type": "code",
   "execution_count": null,
   "metadata": {},
   "outputs": [],
   "source": [
    "# rules\n",
    "plot_mp(heatmap_data_abstr, pos_examples=pos_examples, neg_examples=neg_examples)"
   ]
  },
  {
   "cell_type": "code",
   "execution_count": null,
   "metadata": {},
   "outputs": [],
   "source": [
    "plot_mp(heatmap_data_abstr, pos_examples=pos_examples, neg_examples=neg_examples)"
   ]
  },
  {
   "cell_type": "code",
   "execution_count": null,
   "metadata": {},
   "outputs": [],
   "source": [
    "assert False"
   ]
  },
  {
   "cell_type": "code",
   "execution_count": null,
   "metadata": {},
   "outputs": [],
   "source": [
    "Godel = dict(\n",
    "    Not = ltn.Connective(ltn.fuzzy_ops.NotGodel()),\n",
    "    And = ltn.Connective(ltn.fuzzy_ops.AndMin()),\n",
    "    Or = ltn.Connective(ltn.fuzzy_ops.OrMax()),\n",
    "    Implies = ltn.Connective(ltn.fuzzy_ops.ImpliesGodel()),\n",
    ")\n",
    "\n",
    "KleeneDienes = dict(\n",
    "    Not = ltn.Connective(ltn.fuzzy_ops.NotGodel()),\n",
    "    And = ltn.Connective(ltn.fuzzy_ops.AndMin()),\n",
    "    Or = ltn.Connective(ltn.fuzzy_ops.OrMax()),\n",
    "    Implies = ltn.Connective(ltn.fuzzy_ops.ImpliesKleeneDienes()),\n",
    ")\n",
    "\n",
    "Goguen = dict(\n",
    "    Not = ltn.Connective(ltn.fuzzy_ops.NotStandard()),\n",
    "    And = ltn.Connective(ltn.fuzzy_ops.AndProd()),\n",
    "    Or = ltn.Connective(ltn.fuzzy_ops.OrProbSum()),\n",
    "    Implies = ltn.Connective(ltn.fuzzy_ops.ImpliesGoguen()),\n",
    ")\n",
    "\n",
    "Reichenbach = dict(\n",
    "    Not = ltn.Connective(ltn.fuzzy_ops.NotStandard()),\n",
    "    And = ltn.Connective(ltn.fuzzy_ops.AndProd()),\n",
    "    Or = ltn.Connective(ltn.fuzzy_ops.OrProbSum()),\n",
    "    Implies = ltn.Connective(ltn.fuzzy_ops.ImpliesReichenbach()),\n",
    ")\n",
    "\n",
    "Luk = dict(\n",
    "    Not = ltn.Connective(ltn.fuzzy_ops.NotStandard()),\n",
    "    And = ltn.Connective(ltn.fuzzy_ops.AndLuk()),\n",
    "    Or = ltn.Connective(ltn.fuzzy_ops.OrLuk()),\n",
    "    Implies = ltn.Connective(ltn.fuzzy_ops.ImpliesLuk()),\n",
    ")\n",
    "\n",
    "Forall = ltn.Quantifier(ltn.fuzzy_ops.AggregPMeanError(p=2), quantifier=\"f\")\n",
    "Exists = ltn.Quantifier(ltn.fuzzy_ops.AggregPMean(p=6), quantifier=\"e\")\n"
   ]
  },
  {
   "cell_type": "code",
   "execution_count": null,
   "metadata": {},
   "outputs": [],
   "source": [
    "Forall_pmean_error_p2 = ltn.Quantifier(ltn.fuzzy_ops.AggregPMeanError(p=2), quantifier=\"f\")\n",
    "Forall_pmean_error_p10 = ltn.Quantifier(ltn.fuzzy_ops.AggregPMeanError(p=10), quantifier=\"f\")\n",
    "Forall_min = ltn.Quantifier(ltn.fuzzy_ops.AggregMin(), quantifier=\"f\")\n",
    "Forall_mean = ltn.Quantifier(ltn.fuzzy_ops.AggregMean(), quantifier=\"f\")\n",
    "\n",
    "Forall_dict = dict(\n",
    "Forall_pmean_error_p2=Forall_pmean_error_p2,\n",
    "Forall_pmean_error_p10=Forall_pmean_error_p10,\n",
    "Forall_min=Forall_min,\n",
    "Forall_mean=Forall_mean,\n",
    ")\n",
    "\n",
    "Implies_reichenbach = ltn.Connective(ltn.fuzzy_ops.ImpliesReichenbach())\n",
    "Implies_kleene_diene = ltn.Connective(ltn.fuzzy_ops.ImpliesKleeneDienes())\n",
    "Implies_godel = ltn.Connective(ltn.fuzzy_ops.ImpliesGodel())\n",
    "Implies_Goguen = ltn.Connective(ltn.fuzzy_ops.ImpliesGoguen())\n",
    "Implies_Luk = ltn.Connective(ltn.fuzzy_ops.ImpliesLuk())\n",
    "\n",
    "Implies_Reichen_sigm_s3 = ltn.Connective(ImpliesReichenbachSigmoidal(s=3))\n",
    "Implies_Reichen_sigm_s9 = ltn.Connective(ImpliesReichenbachSigmoidal(s=9))\n",
    "Implies_Reichen_sigm_s18 = ltn.Connective(ImpliesReichenbachSigmoidal(s=18))\n",
    "\n",
    "\n",
    "\n",
    "Implies_dict = dict(\n",
    "    Implies_reichenbach=Implies_reichenbach,\n",
    "Implies_kleene_diene=Implies_kleene_diene,\n",
    "Implies_godel=Implies_godel,\n",
    "Implies_Luk=Implies_Luk,\n",
    "Implies_Goguen=Implies_Goguen,\n",
    "Implies_Reichen_sigm_s3=Implies_Reichen_sigm_s3,\n",
    "Implies_Reichen_sigm_s9=Implies_Reichen_sigm_s9,\n",
    "Implies_Reichen_sigm_s18=Implies_Reichen_sigm_s18,\n",
    ")"
   ]
  },
  {
   "cell_type": "code",
   "execution_count": null,
   "metadata": {},
   "outputs": [],
   "source": [
    "import pickle\n",
    "with open(f'trans_abl_{object_dim}_independent.pkl', 'rb') as f:\n",
    "    results = pickle.load(f)\n",
    "# object_dim = 32\n",
    "# with open(f'trans_abl_{object_dim}_independent.pkl', 'rb') as f:\n",
    "#     results[object_dim] = pickle.load(f)"
   ]
  },
  {
   "cell_type": "code",
   "execution_count": null,
   "metadata": {},
   "outputs": [],
   "source": [
    "train_kwargs[\"sat_agg\"] = ltn.fuzzy_ops.SatAgg(agg_op=ltn.fuzzy_ops.AggregPMeanError(p=2, stable=True))\n",
    "\n",
    "# results = {}\n",
    "\n",
    "for Forall in Forall_dict:\n",
    "    # results[Forall] = {}\n",
    "    # for Implies in Implies_dict:\n",
    "    for Implies in [\"Implies_Luk\"]:\n",
    "\n",
    "        train_kwargs[\"Forall\"] = Forall_dict[Forall]\n",
    "        train_kwargs[\"Forall_custom\"] = Forall_dict[Forall]\n",
    "        train_kwargs[\"Implies\"] = Implies_dict[Implies]\n",
    "\n",
    "        IOM = ltn.Predicate(BaselineRelationalIndependentModel(num_objects))\n",
    "        results[Forall][Implies] = train(IOM, **train_kwargs, first_run=True)"
   ]
  },
  {
   "cell_type": "code",
   "execution_count": null,
   "metadata": {},
   "outputs": [],
   "source": [
    "import pickle\n",
    "# Save to a pickle file\n",
    "with open(f'trans_abl_{object_dim}_independent.pkl', 'wb') as f:\n",
    "    pickle.dump(results, f)"
   ]
  },
  {
   "cell_type": "code",
   "execution_count": null,
   "metadata": {},
   "outputs": [],
   "source": [
    "assert False"
   ]
  },
  {
   "cell_type": "code",
   "execution_count": null,
   "metadata": {},
   "outputs": [],
   "source": [
    "trans_abl_last = [results[a][b][-1] for a in results for b in results[a]]\n",
    "plot_mp(trans_abl_last, pos_examples=pos_examples, neg_examples=neg_examples)"
   ]
  },
  {
   "cell_type": "code",
   "execution_count": null,
   "metadata": {},
   "outputs": [],
   "source": [
    "i = 40\n",
    "for Forall in Forall_dict:\n",
    "    for Implies in Implies_dict:\n",
    "        data = results[Forall][Implies]\n",
    "        file_name = f\"{Forall}_{Implies}_{50*i}_{object_dim}.png\"\n",
    "        save_plot_heatmap(data[i], pos_examples=pos_examples, file_name=file_name)\n",
    "        break\n",
    "    break\n"
   ]
  },
  {
   "cell_type": "code",
   "execution_count": null,
   "metadata": {},
   "outputs": [],
   "source": [
    "def save_plot_heatmap(data, pos_examples, file_name, text=None):\n",
    "    plt.imshow(data, cmap=\"PuBu\", vmin=0, vmax=1)\n",
    "    # plt.colorbar()\n",
    "    if text:\n",
    "        plt.title(text)\n",
    "\n",
    "    # Mark specific grids (if provided)\n",
    "    for row, col in pos_examples:\n",
    "        plt.gca().add_patch(\n",
    "            plt.Rectangle(\n",
    "                (col - 0.475, row - 0.475),\n",
    "                0.95,\n",
    "                0.95,\n",
    "                edgecolor=\"yellow\",\n",
    "                fill=False,\n",
    "                lw=1,\n",
    "            )\n",
    "        )\n",
    "    data_dir = \"plots/trans_abl\"\n",
    "    file_path = os.path.join(\n",
    "                data_dir,\n",
    "                file_name\n",
    "            )\n",
    "    plt.savefig(\n",
    "        file_path,\n",
    "        # dpi=dpi,\n",
    "        bbox_inches=\"tight\",\n",
    "        pad_inches=0.0,\n",
    "    )"
   ]
  },
  {
   "cell_type": "code",
   "execution_count": null,
   "metadata": {},
   "outputs": [],
   "source": [
    "def plot_heatmap(data, text, pos_examples):\n",
    "    plt.imshow(data, cmap=\"PuBu\", vmin=0, vmax=1)\n",
    "    plt.colorbar()\n",
    "    plt.title(text)\n",
    "\n",
    "    # Mark specific grids (if provided)\n",
    "    for row, col in pos_examples:\n",
    "        plt.gca().add_patch(\n",
    "            plt.Rectangle(\n",
    "                (col - 0.475, row - 0.475),\n",
    "                0.95,\n",
    "                0.95,\n",
    "                edgecolor=\"yellow\",\n",
    "                fill=False,\n",
    "                lw=1,\n",
    "            )\n",
    "        )\n",
    "\n",
    "    plt.show()"
   ]
  },
  {
   "cell_type": "code",
   "execution_count": null,
   "metadata": {},
   "outputs": [],
   "source": [
    "train_kwargs[\"sat_agg\"] = ltn.fuzzy_ops.SatAgg(agg_op=ltn.fuzzy_ops.AggregPMeanError(p=2, stable=True))\n",
    "\n",
    "results = {}\n",
    "\n",
    "for Forall in Forall_dict:\n",
    "    results[Forall] = {}\n",
    "    for Implies in Implies_dict:\n",
    "        train_kwargs[\"Forall\"] = Forall_dict[Forall]\n",
    "        train_kwargs[\"Forall_custom\"] = Forall_dict[Forall]\n",
    "        train_kwargs[\"Implies\"] = Implies_dict[Implies]\n",
    "\n",
    "        IOM = ltn.Predicate(BaselineRelationalIndependentModel(num_objects))\n",
    "        results[Forall][Implies] = train(IOM, **train_kwargs, first_run=True)"
   ]
  },
  {
   "cell_type": "code",
   "execution_count": null,
   "metadata": {},
   "outputs": [],
   "source": [
    "assert False"
   ]
  },
  {
   "cell_type": "code",
   "execution_count": null,
   "metadata": {},
   "outputs": [],
   "source": [
    "train_kwargs[\"Forall\"] = ltn.Quantifier(agg_op=ltn.fuzzy_ops.AggregPMeanError(p=2, stable=True), quantifier='f')\n",
    "train_kwargs[\"sat_agg\"] = ltn.fuzzy_ops.SatAgg(agg_op=ltn.fuzzy_ops.AggregPMeanError(p=2, stable=True))\n",
    "\n",
    "first_run = True\n",
    "if first_run:\n",
    "    heatmap_data_abstr = []\n",
    "    AOM = ltn.Predicate(AbstractorOrderModel(object_dim, orderabstractor_kwargs))\n",
    "heatmap_data_abstr += train(AOM, **train_kwargs, first_run=first_run)"
   ]
  },
  {
   "cell_type": "code",
   "execution_count": null,
   "metadata": {},
   "outputs": [],
   "source": [
    "plot_mp(heatmap_data_abstr, pos_examples=pos_examples, neg_examples=neg_examples)"
   ]
  },
  {
   "cell_type": "code",
   "execution_count": null,
   "metadata": {},
   "outputs": [],
   "source": [
    "first_run = True\n",
    "if first_run:\n",
    "    heatmap_data_base_concat = []\n",
    "    AOM = ltn.Predicate(BaselineRelationalModelConcat(num_objects=num_objects, object_dim=object_dim))\n",
    "heatmap_data_base_concat += train(AOM, **train_kwargs, first_run=first_run)"
   ]
  },
  {
   "cell_type": "code",
   "execution_count": null,
   "metadata": {},
   "outputs": [],
   "source": [
    "plot_mp(heatmap_data_base_concat, pos_examples=pos_examples, neg_examples=neg_examples)"
   ]
  },
  {
   "cell_type": "code",
   "execution_count": null,
   "metadata": {},
   "outputs": [],
   "source": [
    "assert False"
   ]
  },
  {
   "cell_type": "code",
   "execution_count": null,
   "metadata": {},
   "outputs": [],
   "source": [
    "# # AOM = ltn.Predicate(AbstractorOrderModel(orderabstractor_kwargs))\n",
    "# train_kwargs[\"Forall\"] = ltn.Quantifier(agg_op=ltn.fuzzy_ops.AggregPMeanError(p=20, stable=True), quantifier='f')\n",
    "\n",
    "# train_kwargs[\"Implies\"] = Implies_godel\n",
    "# train_kwargs[\"transitive\"]=True,\n",
    "# train_kwargs[\"switch\"]=False\n",
    "\n",
    "# AOM = torch.load(f\"checkpoints/chain_{object_dim}.PT\")\n",
    "# heatmap_data_abstr = train(AOM, **train_kwargs)"
   ]
  },
  {
   "cell_type": "code",
   "execution_count": null,
   "metadata": {},
   "outputs": [],
   "source": [
    "# plot_mp(heatmap_data_abstr, pos_examples=pos_examples, neg_examples=neg_examples)"
   ]
  },
  {
   "cell_type": "code",
   "execution_count": null,
   "metadata": {},
   "outputs": [],
   "source": [
    "assert False"
   ]
  },
  {
   "cell_type": "code",
   "execution_count": null,
   "metadata": {},
   "outputs": [],
   "source": [
    "trans_abl08 = []\n",
    "\n",
    "train_kwargs[\"Forall\"] = ltn.Quantifier(agg_op=ltn.fuzzy_ops.AggregPMeanError(p=4, stable=True), quantifier='f')\n",
    "\n",
    "train_kwargs[\"Implies\"] = Implies_godel\n",
    "train_kwargs[\"transitive\"]=True,\n",
    "train_kwargs[\"switch\"]=False\n",
    "\n",
    "# for Forall in Foralls_list:\n",
    "#     train_kwargs[\"Forall\"] = Forall\n",
    "\n",
    "for Implies in Implies_list:\n",
    "    train_kwargs[\"Implies\"] = Implies\n",
    "    AOM = torch.load(f\"checkpoints/chain_{object_dim}.PT\")\n",
    "    # AOM = ltn.Predicate(AbstractorOrderModel(orderabstractor_kwargs))\n",
    "    trans_abl08.append(train(AOM, **train_kwargs))"
   ]
  },
  {
   "cell_type": "code",
   "execution_count": null,
   "metadata": {},
   "outputs": [],
   "source": [
    "import pickle\n",
    "# Save to a pickle file\n",
    "with open(f'trans_abl_{object_dim}_PMeanErrorp=4_w09.pkl', 'wb') as f:\n",
    "    pickle.dump(trans_abl08, f)"
   ]
  },
  {
   "cell_type": "code",
   "execution_count": null,
   "metadata": {},
   "outputs": [],
   "source": [
    "# i = 0\n",
    "# for Forall in Foralls_list:\n",
    "\n",
    "#     for Implies in Implies_list:\n",
    "#         print(i, Forall.agg_op, Implies.connective_op)\n",
    "#         i +=1"
   ]
  },
  {
   "cell_type": "code",
   "execution_count": null,
   "metadata": {},
   "outputs": [],
   "source": [
    "trans_abl08_last = [a[-1] for a in trans_abl08]\n",
    "plot_mp(trans_abl08_last, pos_examples=pos_examples, neg_examples=neg_examples)"
   ]
  },
  {
   "cell_type": "code",
   "execution_count": null,
   "metadata": {},
   "outputs": [],
   "source": [
    "plot_mp(trans_abl08[0], pos_examples=pos_examples, neg_examples=neg_examples)"
   ]
  },
  {
   "cell_type": "code",
   "execution_count": null,
   "metadata": {},
   "outputs": [],
   "source": [
    "plot_mp(trans_abl[-1], pos_examples=pos_examples, neg_examples=neg_examples)"
   ]
  },
  {
   "cell_type": "code",
   "execution_count": null,
   "metadata": {},
   "outputs": [],
   "source": [
    "trans_abl_end = [a[-1] for a in trans_abl]\n",
    "plot_mp(trans_abl_end, pos_examples=pos_examples, neg_examples=neg_examples)"
   ]
  },
  {
   "cell_type": "code",
   "execution_count": null,
   "metadata": {},
   "outputs": [],
   "source": [
    "i=0\n",
    "Implies(And(AOM(c[i], c[i+1]), AOM(c[i+1], c[i+2])), AOM(c[i], c[i+2]))\n"
   ]
  },
  {
   "cell_type": "code",
   "execution_count": null,
   "metadata": {},
   "outputs": [],
   "source": [
    "3, 8, 10, 11\n",
    "i = 0\n",
    "for Forall in Foralls_list:\n",
    "    for Implies in Implies_list:\n",
    "        if i == 11:\n",
    "            print(Forall.agg_op, Implies.connective_op)\n",
    "            plot_mp(trans_abl[i], pos_examples=pos_examples, neg_examples=neg_examples)\n",
    "        i+=1"
   ]
  },
  {
   "cell_type": "code",
   "execution_count": null,
   "metadata": {},
   "outputs": [],
   "source": [
    "R = ltn.Predicate(BaselineRelationalModel(num_objects, object_dim, final_size=8))\n",
    "heatmap_data_R = train(R, **train_kwargs)"
   ]
  },
  {
   "cell_type": "code",
   "execution_count": null,
   "metadata": {},
   "outputs": [],
   "source": [
    "plot_mp(heatmap_data_R, pos_examples=pos_examples, neg_examples=neg_examples)"
   ]
  },
  {
   "cell_type": "code",
   "execution_count": null,
   "metadata": {},
   "outputs": [],
   "source": [
    "Rcat = ltn.Predicate(BaselineRelationalModelConcat(num_objects, object_dim))\n",
    "heatmap_data_Rcat = train(Rcat, **train_kwargs)"
   ]
  },
  {
   "cell_type": "code",
   "execution_count": null,
   "metadata": {},
   "outputs": [],
   "source": [
    "plot_mp(heatmap_data_Rcat, pos_examples=pos_examples, neg_examples=neg_examples)"
   ]
  },
  {
   "cell_type": "code",
   "execution_count": null,
   "metadata": {},
   "outputs": [],
   "source": [
    "AOM = ltn.Predicate(AbstractorOrderModel(orderabstractor_kwargs))\n",
    "heatmap_data_abstr = train(AOM, **train_kwargs)"
   ]
  },
  {
   "cell_type": "code",
   "execution_count": null,
   "metadata": {},
   "outputs": [],
   "source": [
    "plot_mp(heatmap_data_abstr, pos_examples=pos_examples, neg_examples=neg_examples)"
   ]
  },
  {
   "cell_type": "code",
   "execution_count": null,
   "metadata": {},
   "outputs": [],
   "source": [
    "orderabstractor_kwargs = {\n",
    "    \"num_layers\": 1,\n",
    "    \"norm\": None,  # Example normalization layer\n",
    "    \"use_pos_embedding\": True,\n",
    "    \"use_learned_symbols\": False,\n",
    "    \"learn_symbol_per_position\": False,\n",
    "    \"use_symbolic_attention\": False,\n",
    "    \"object_dim\": object_dim,\n",
    "    \"symbol_dim\": 64,  # Using a different symbol dimension\n",
    "    \"num_heads\": 1,\n",
    "    \"ff_dim\": 64,\n",
    "    \"dropout\": 0.1,\n",
    "    \"MHA_kwargs\": {\n",
    "        \"use_bias\": False,\n",
    "        \"activation\": nn.Identity(),  # Different activation function\n",
    "        # \"activation\": nn.Softmax(-1),\n",
    "        # \"activation\": nn.Sigmoid(),\n",
    "        # \"activation\": sparsemax,\n",
    "        \"use_scaling\": True,\n",
    "        \"shared_kv_proj\": False,\n",
    "    },\n",
    "}\n"
   ]
  },
  {
   "cell_type": "code",
   "execution_count": null,
   "metadata": {},
   "outputs": [],
   "source": [
    "AOM = ltn.Predicate(AbstractorOrderModel(orderabstractor_kwargs))\n",
    "heatmap_data_abstr = train(AOM, **train_kwargs)"
   ]
  },
  {
   "cell_type": "code",
   "execution_count": null,
   "metadata": {},
   "outputs": [],
   "source": [
    "plot_mp(heatmap_data_abstr, pos_examples=pos_examples, neg_examples=neg_examples)"
   ]
  },
  {
   "cell_type": "code",
   "execution_count": null,
   "metadata": {},
   "outputs": [],
   "source": [
    "# i = 0\n",
    "# data = heatmap_data_R[i]\n",
    "# plt.imshow(data, cmap=\"viridis\", vmin=0, vmax=1)\n",
    "# plt.colorbar()\n",
    "# plt.title(f\"Prediction after {20 * i} epoch\")\n",
    "# plt.show()"
   ]
  }
 ],
 "metadata": {
  "kernelspec": {
   "display_name": "LTN",
   "language": "python",
   "name": "python3"
  },
  "language_info": {
   "codemirror_mode": {
    "name": "ipython",
    "version": 3
   },
   "file_extension": ".py",
   "mimetype": "text/x-python",
   "name": "python",
   "nbconvert_exporter": "python",
   "pygments_lexer": "ipython3",
   "version": "3.9.19"
  },
  "vscode": {
   "interpreter": {
    "hash": "41e82446411d69384d72a304a49edf43449f9ad19ac7ac91cb04fd1f2b17f4cd"
   }
  }
 },
 "nbformat": 4,
 "nbformat_minor": 0
}
