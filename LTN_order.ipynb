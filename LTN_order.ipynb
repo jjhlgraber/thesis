{
 "cells": [
  {
   "cell_type": "code",
   "execution_count": 163,
   "metadata": {
    "collapsed": false,
    "pycharm": {
     "name": "#%%\n"
    }
   },
   "outputs": [],
   "source": [
    "import torch\n",
    "import torch.nn as nn\n",
    "import torch.nn.functional as F\n",
    "import numpy as np\n",
    "import ltn\n",
    "import itertools\n",
    "from order_utils import BaselineRelationalModel, BaselineRelationalModelConcat, AbstractorOrderModel, BaselineRelationalIndependentModel, plot_mp\n",
    "import matplotlib.pyplot as plt\n",
    "from itertools import product\n",
    "import networkx as nx\n",
    "import random\n",
    "import os\n",
    "\n",
    "from custom_fuzzy_ops import ImpliesReichenbachSigmoidal"
   ]
  },
  {
   "cell_type": "code",
   "execution_count": 164,
   "metadata": {},
   "outputs": [],
   "source": [
    "def adjacency_anti_transitive(n):\n",
    "    G = nx.DiGraph()\n",
    "    G.add_nodes_from(range(n))\n",
    "\n",
    "    while True:\n",
    "        added_edge = False\n",
    "        adjacency = nx.adjacency_matrix(G).toarray()\n",
    "        sorted_non_edges = sorted(nx.non_edges(G), key=lambda k: random.random())\n",
    "        for u, v in sorted_non_edges:\n",
    "            if G.has_edge(v, u):\n",
    "                continue\n",
    "            if not np.logical_and(adjacency[u], adjacency[:,v]).any() and \\\n",
    "                not np.logical_and(adjacency[u], adjacency[v]).any() and \\\n",
    "                not np.logical_and(adjacency[:,u], adjacency[:,v]).any():\n",
    "                G.add_edge(u, v)\n",
    "                added_edge = True\n",
    "                break\n",
    "        if not added_edge:\n",
    "            break\n",
    "\n",
    "    adjacency = nx.adjacency_matrix(G).toarray()\n",
    "    adjacency = torch.tensor(adjacency)\n",
    "    return adjacency\n",
    "\n",
    "def adjacency_triangular_lattice(n, periodic=True):\n",
    "    lattice = nx.triangular_lattice_graph(n//2, n//2, periodic=periodic)\n",
    "    adjacency = nx.adjacency_matrix(lattice).toarray()[np.arange(n),:][:,np.arange(n)]\n",
    "    adjacency += np.eye(adjacency.shape[0]).astype(int)\n",
    "\n",
    "    adjacency = torch.tensor(adjacency)\n",
    "    return adjacency\n",
    "\n",
    "def adjacency_lattice(n, dim, periodic=True, distance=2):\n",
    "    div = int(n**(1./dim))\n",
    "    # rest = n % dim\n",
    "    grid_dims = dim * [div]\n",
    "    # grid_dims[0] += rest\n",
    "    grid_dims\n",
    "\n",
    "    lattice = nx.grid_graph(grid_dims, periodic=periodic)\n",
    "    for u, v in lattice.edges():\n",
    "        for i in range(1, distance + 1):\n",
    "            if i != 1:  # Avoid duplicate edges\n",
    "                neighbors = [(u[0] + i, u[1]), (u[0] - i, u[1]),\n",
    "                             (u[0], u[1] + i), (u[0], u[1] - i)]\n",
    "                for neighbor in neighbors:\n",
    "                    if neighbor in lattice.nodes:\n",
    "                        lattice.add_edge(u, neighbor)\n",
    "\n",
    "    adjacency = nx.adjacency_matrix(lattice).toarray()\n",
    "    adjacency += np.eye(adjacency.shape[0]).astype(int)\n",
    "\n",
    "    adjacency = torch.tensor(adjacency)\n",
    "    return adjacency\n",
    "\n",
    "def adjacency_total_order(n):\n",
    "\n",
    "    adjacency = torch.triu(torch.ones(n,n))\n",
    "\n",
    "    return adjacency"
   ]
  },
  {
   "cell_type": "code",
   "execution_count": 165,
   "metadata": {},
   "outputs": [],
   "source": [
    "def adjacency_from_string(N=1000, string='O'):\n",
    "    # Make a plot with \"HELLO\" text; save as PNG\n",
    "    fig, ax = plt.subplots(figsize=(4, 1))\n",
    "    fig.subplots_adjust(left=0, right=1, bottom=0, top=1)\n",
    "    ax.axis('off')\n",
    "    ax.text(0.5, 0.5, string, va='center', ha='center', size=85)\n",
    "    fig.savefig('hello.png')\n",
    "    plt.close(fig)\n",
    "    \n",
    "    # Open this PNG and draw random points from it\n",
    "    from matplotlib.image import imread\n",
    "    data = imread('hello.png')[::-1, :, 0].T\n",
    "    mask = (data < 1)\n",
    "    indices = np.random.choice(mask.sum(), N,replace=False)\n",
    "    X = np.argwhere(mask)[indices].astype(float)\n",
    "\n",
    "    X[:, 0] /= data.shape[0]\n",
    "    X[:, 1] /= data.shape[0]\n",
    "    X = X[np.argsort(X[:, 0])]\n",
    "    X = X[np.argsort(X[:, 1])]\n",
    "\n",
    "    pos = {node: (i, j) for node, (i, j) in enumerate(X)}\n",
    "    G = nx.random_geometric_graph(X.shape[0], 0.1, pos=pos)\n",
    "    adjacency = nx.adjacency_matrix(G).toarray()\n",
    "    adjacency += np.eye(adjacency.shape[0]).astype(int)\n",
    "    adjacency = torch.tensor(adjacency)\n",
    "    return adjacency"
   ]
  },
  {
   "cell_type": "code",
   "execution_count": 166,
   "metadata": {},
   "outputs": [],
   "source": [
    "def get_pairs_adjacency(adjacency):\n",
    "    pos_pairs = torch.argwhere(adjacency==1)\n",
    "    neg_pairs = torch.argwhere(adjacency==0)\n",
    "    return pos_pairs, neg_pairs\n",
    "\n",
    "\n",
    "def get_samples_adjacency(pos_pairs, neg_pairs, train_split_pos, train_split_neg):\n",
    "    pos_n_train_points = int(pos_pairs.size(0) * train_split_pos)\n",
    "    neg_n_train_points = int(neg_pairs.size(0) * train_split_neg)\n",
    "\n",
    "    pos_sample_indices = np.random.choice(len(pos_pairs), pos_n_train_points, replace=False)\n",
    "    neg_sample_indices = np.random.choice(len(neg_pairs), neg_n_train_points, replace=False)\n",
    "\n",
    "    pos_sample = pos_pairs[pos_sample_indices]\n",
    "    neg_sample = neg_pairs[neg_sample_indices]\n",
    "\n",
    "    return pos_sample, neg_sample"
   ]
  },
  {
   "cell_type": "code",
   "execution_count": 167,
   "metadata": {},
   "outputs": [],
   "source": [
    "def get_constants(num_objects, object_dim, feature_type=\"onehot\"):\n",
    "    if feature_type == \"gaussian\":\n",
    "        learn_embed = False\n",
    "        embed = torch.nn.Embedding(\n",
    "        num_embeddings=num_objects, embedding_dim=object_dim\n",
    "        )\n",
    "        torch.nn.init.normal_(embed.weight, mean=0.0, std=1.0)\n",
    "        embed.weight.requires_grad = learn_embed\n",
    "        constants_tensor = embed.weight\n",
    "    elif feature_type == \"index\":\n",
    "        constants_tensor = torch.arange(num_objects).unsqueeze(-1)\n",
    "    else:\n",
    "        assert num_objects == object_dim\n",
    "        constants_tensor = torch.eye(num_objects)\n",
    "\n",
    "    constants = [ltn.Constant(features, trainable=False) for features in constants_tensor]\n",
    "\n",
    "    return constants, constants_tensor\n",
    "\n",
    "def get_pairs_total_order(num_objects):\n",
    "    object_pairs = torch.Tensor(list(itertools.permutations(range(num_objects), r=2))).int()\n",
    "    object_order_relations = (object_pairs[:,0] < object_pairs[:, 1])\n",
    "\n",
    "    pos_pairs = object_pairs[object_order_relations]\n",
    "    neg_pairs = object_pairs[object_order_relations == False]\n",
    "\n",
    "    return pos_pairs, neg_pairs\n",
    "\n",
    "def get_samples_total_order(num_objects, pos_pairs, neg_pairs, pos_chain_depth, train_split_pos, train_split_neg):\n",
    "\n",
    "    if pos_chain_depth:\n",
    "        pos_sample = []\n",
    "        for j in range(pos_chain_depth):\n",
    "            pos_sample += [[i, i+j+1] for i in range(num_objects-(j+1))]\n",
    "\n",
    "        pos_sample = torch.tensor(pos_sample)\n",
    "\n",
    "        indices_pos_chain = torch.zeros(len(pos_pairs))\n",
    "\n",
    "        for pair in pos_sample:\n",
    "           indices_pos_chain += (pos_pairs == pair).all(-1).int()\n",
    "\n",
    "        indices_pos_chain = ~ indices_pos_chain.bool()\n",
    "\n",
    "        pos_pairs_to_sample_from = pos_pairs[indices_pos_chain]\n",
    "    else:\n",
    "        pos_sample = torch.tensor([]).int()\n",
    "        pos_pairs_to_sample_from = pos_pairs\n",
    "\n",
    "    neg_n_train_points = int(neg_pairs.size(0) * train_split_neg)\n",
    "    pos_n_train_points = int(neg_pairs.size(0) * train_split_pos) - len(pos_sample)\n",
    "    if pos_n_train_points < 0:\n",
    "        pos_n_train_points = 0\n",
    "\n",
    "    pos_sample_indices = np.random.choice(len(pos_pairs_to_sample_from), pos_n_train_points, replace=False)\n",
    "    neg_sample_indices = np.random.choice(len(neg_pairs), neg_n_train_points, replace=False)\n",
    "\n",
    "    pos_sample = torch.cat((pos_sample, pos_pairs_to_sample_from[pos_sample_indices]))\n",
    "    neg_sample = neg_pairs[neg_sample_indices]\n",
    "    if pos_sample.shape[0] == 0:\n",
    "        pos_sample = None\n",
    "    if neg_sample.shape[0] == 0:\n",
    "        neg_sample = None\n",
    "\n",
    "    return pos_sample, neg_sample\n",
    " \n",
    "def get_eye_3D(num_objects):\n",
    "    triples = product(range(num_objects), repeat=3)\n",
    "    triples_with_id = [triple for triple in triples if len(set(triple)) < 3]\n",
    "\n",
    "    eye_3D = torch.ones(num_objects, num_objects, num_objects)\n",
    "    for i, j, k in triples_with_id:\n",
    "        eye_3D[i, j, k] = 0\n",
    "    eye_3D = eye_3D.bool()\n",
    "    return eye_3D"
   ]
  },
  {
   "cell_type": "code",
   "execution_count": 168,
   "metadata": {
    "collapsed": false,
    "pycharm": {
     "name": "#%%\n"
    }
   },
   "outputs": [],
   "source": [
    "Not = ltn.Connective(ltn.fuzzy_ops.NotStandard())\n",
    "And = ltn.Connective(ltn.fuzzy_ops.AndProd())\n",
    "Or = ltn.Connective(ltn.fuzzy_ops.OrProbSum())\n",
    "Implies = ltn.Connective(ltn.fuzzy_ops.ImpliesReichenbach())\n",
    "Equiv = ltn.Connective(ltn.fuzzy_ops.Equiv(ltn.fuzzy_ops.AndProd(), ltn.fuzzy_ops.ImpliesReichenbach()))\n",
    "Forall = ltn.Quantifier(ltn.fuzzy_ops.AggregPMeanError(p=2), quantifier=\"f\")\n",
    "Exists = ltn.Quantifier(ltn.fuzzy_ops.AggregPMean(p=6), quantifier=\"e\")"
   ]
  },
  {
   "cell_type": "code",
   "execution_count": 169,
   "metadata": {},
   "outputs": [],
   "source": [
    "orderabstractor_kwargs = {\n",
    "    \"num_layers\": 1,\n",
    "    \"norm\": None,  # Example normalization layer\n",
    "    \"use_pos_embedding\": True,\n",
    "    \"use_learned_symbols\": False,\n",
    "    \"learn_symbol_per_position\": False,\n",
    "    \"use_symbolic_attention\": False,\n",
    "    \"object_dim\": 32,\n",
    "    \"symbol_dim\": 32,  # Using a different symbol dimension\n",
    "    \"num_heads\": 1,\n",
    "    \"ff_dim\": 64,\n",
    "    \"dropout\": 0.1,\n",
    "    \"MHA_kwargs\": {\n",
    "        \"use_bias\": False,\n",
    "        \"activation\": torch.nn.Identity(),  # Different activation function\n",
    "        # \"activation\": nn.Softmax(-1),\n",
    "        # \"activation\": nn.Sigmoid(),\n",
    "        # \"activation\": sparsemax,\n",
    "        \"use_scaling\": True,\n",
    "        \"shared_kv_proj\": False,\n",
    "    },\n",
    "}"
   ]
  },
  {
   "cell_type": "code",
   "execution_count": 170,
   "metadata": {},
   "outputs": [],
   "source": [
    "def get_sat(heatmap, ground_truth, mask=None, p=1):\n",
    "    if mask is None:\n",
    "        mask = torch.ones_like(ground_truth).bool()\n",
    "    xs = 1 - torch.abs(ground_truth - heatmap)\n",
    "    xs = torch.pow(1. - xs, p)\n",
    "    numerator = torch.sum(torch.where(~mask, torch.zeros_like(xs), xs))\n",
    "    denominator = torch.sum(mask)\n",
    "    sat = (1. - torch.pow(torch.div(numerator, denominator), 1 / p)).item()\n",
    "    return sat"
   ]
  },
  {
   "cell_type": "code",
   "execution_count": 171,
   "metadata": {
    "collapsed": false,
    "pycharm": {
     "name": "#%%\n"
    }
   },
   "outputs": [],
   "source": [
    "def train(model, constants_tensor, epoch_steps=50, epochs=1000, reflective=True, transitive=True, anti_transitive=False,\n",
    "          symmetric=False,\n",
    "          anti_symmetric=True, \n",
    "          connected=True,\n",
    "          LEM=True,\n",
    "          neg_examples=None, pos_examples=None, lr=0.001,\n",
    "          switch=False,\n",
    "          Implies = ltn.Connective(ltn.fuzzy_ops.ImpliesReichenbach()),\n",
    "          Forall = ltn.Quantifier(ltn.fuzzy_ops.AggregPMeanError(p=2), quantifier=\"f\"),\n",
    "          Forall_custom=ltn.Quantifier(agg_op=ltn.fuzzy_ops.AggregPMeanError(p=10, stable=True), quantifier='f'),\n",
    "          first_run=True,\n",
    "          sat_agg=ltn.fuzzy_ops.SatAgg(),\n",
    "          ground_truth=None,):\n",
    "    \n",
    "    \n",
    "    heatmap_data = []\n",
    "    train_loss = []\n",
    "\n",
    "    if first_run:\n",
    "        x1 = ltn.Variable(\"x1\", constants_tensor)\n",
    "        x2 = ltn.Variable(\"x2\", constants_tensor)\n",
    "        query = model(x1,x2).value.detach().numpy()\n",
    "        heatmap_data.append(query)\n",
    "\n",
    "\n",
    "    # we need to learn the parameters of the predicate C\n",
    "    optimizer = torch.optim.Adam(model.parameters(), lr=lr)\n",
    "\n",
    "    last_loss = np.inf\n",
    "    \n",
    "\n",
    "    for epoch in range(epochs):\n",
    "        optimizer.zero_grad()\n",
    "\n",
    "        x1 = ltn.Variable(\"x1\", constants_tensor)\n",
    "        x2 = ltn.Variable(\"x2\", constants_tensor)\n",
    "        x3 = ltn.Variable(\"x3\", constants_tensor)\n",
    "\n",
    "        fuzzy_theory = []\n",
    "        fuzzy_weighted = []\n",
    "        if pos_examples is not None:\n",
    "            pos_x = ltn.Variable(\"pos_x\", constants_tensor[pos_examples[:,0]])\n",
    "            pos_y = ltn.Variable(\"pos_y\", constants_tensor[pos_examples[:,1]])\n",
    "            pos_x, pos_y = ltn.diag(pos_x, pos_y)\n",
    "            axiom_pos = Forall([pos_x, pos_y], model(pos_x, pos_y))\n",
    "            fuzzy_theory.append(axiom_pos)\n",
    "        if neg_examples is not None:\n",
    "            neg_x = ltn.Variable(\"neg_x\", constants_tensor[neg_examples[:,0]])\n",
    "            neg_y = ltn.Variable(\"neg_y\", constants_tensor[neg_examples[:,1]])\n",
    "            neg_x, neg_y = ltn.diag(neg_x, neg_y)\n",
    "            axiom_neg = Forall([neg_x, neg_y], Not(model(neg_x, neg_y)))\n",
    "            fuzzy_theory.append(axiom_neg)\n",
    "\n",
    "        if reflective:\n",
    "            fuzzy_theory.append(Forall(x1, model(x1, x1)))\n",
    "        if transitive:\n",
    "            fuzzy_weighted.append(\n",
    "                Forall_custom([x1, x2, x3], Implies(And(model(x1, x2), model(x2, x3)), model(x1, x3)),\n",
    "                                              cond_vars=[x1, x2, x3],\n",
    "                                              cond_fn=lambda x, y, z: eye_3D))\n",
    "                                            \n",
    "\n",
    "\n",
    "        if anti_transitive:\n",
    "            fuzzy_weighted.append(Forall_custom([x1, x2, x3], Implies(And(model(x1, x2), model(x2, x3)), Not(model(x1, x3))),) )\n",
    "\n",
    "        if symmetric:\n",
    "            fuzzy_theory.append(Forall_custom([x1, x2],\n",
    "                Implies(model(x1, x2), model(x2, x1)),\n",
    "                cond_vars=[x1, x2],\n",
    "                cond_fn=lambda x, y: ~torch.eye(num_objects, dtype=bool),\n",
    "                ))\n",
    "\n",
    "        if anti_symmetric:\n",
    "            fuzzy_theory.append(Forall([x1, x2],\n",
    "                Implies(model(x1, x2), Not(model(x2, x1))),\n",
    "                cond_vars=[x1, x2],\n",
    "                cond_fn=lambda x, y: ~torch.eye(num_objects, dtype=bool),\n",
    "                ))\n",
    "            \n",
    "        if connected:\n",
    "            axiom_connected = Forall_custom([x1, x2],\n",
    "                Or(model(x1, x2), model(x2, x1)),\n",
    "                )\n",
    "\n",
    "            fuzzy_theory.append(axiom_connected)\n",
    "        \n",
    "        if LEM:\n",
    "            axiom_lem = Forall_custom([x1, x2],\n",
    "                Or(model(x1, x2), Not(model(x1, x2))),\n",
    "                )\n",
    "            # axiom_lem = Forall_custom([x1, x2],\n",
    "            #     Implies(Not(model(x1, x2)), model(x1, x2)),\n",
    "            #     )\n",
    "\n",
    "            fuzzy_theory.append(axiom_lem)\n",
    "\n",
    "        weighted = False\n",
    "        if weighted:\n",
    "            sat_weight = 0.9\n",
    "            satisfiablity = sat_weight * sat_agg(*fuzzy_theory) + (1 - sat_weight) * sat_agg(*fuzzy_weighted)\n",
    "        else:\n",
    "            fuzzy_theory += fuzzy_weighted\n",
    "            satisfiablity = sat_agg(*fuzzy_theory)\n",
    "\n",
    "\n",
    "        loss = 1. - satisfiablity\n",
    "        loss.backward()\n",
    "        optimizer.step()\n",
    "        \n",
    "        if epoch%epoch_steps == 0:\n",
    "            with torch.no_grad():\n",
    "                train_loss.append(loss.item())\n",
    "\n",
    "                print(\"Epoch %d: Train Sat Level %.3f \"%(epoch, satisfiablity))\n",
    "                query = model(x1,x2).value.detach().numpy()\n",
    "                heatmap_data.append(query)\n",
    "                if ground_truth is not None:\n",
    "                    pred = torch.tensor(query > 0.5)\n",
    "                    val_acc = (pred == ground_truth).sum() / (ground_truth.shape[0]**2)\n",
    "                    print(\"Overall acc %.3f \"%(val_acc))\n",
    "\n",
    "                    mask = ~torch.eye(object_dim).bool()\n",
    "                    print(\"Overall sat %.3f\"%(get_sat(query, ground_truth, mask=mask, p=1)))\n",
    "\n",
    "                # if np.allclose(loss.item(), last_loss, atol=1e-04, equal_nan=False) and epoch>25:\n",
    "                # # 1 - loss > 0.995 or \n",
    "                \n",
    "                #     if switch:\n",
    "                #         print()\n",
    "                #         print(epoch/epoch_steps)\n",
    "                #         torch.save(model, f\"checkpoints/chain_{object_dim}.PT\")\n",
    "                #         # break\n",
    "                    \n",
    "                #         switch = False\n",
    "                #         transitive = True\n",
    "                #         # Forall = ltn.Quantifier(ltn.fuzzy_ops.AggregPMeanError(p=6), quantifier=\"f\")\n",
    "                #     else:\n",
    "                #         break\n",
    "\n",
    "\n",
    "            \n",
    "            \n",
    "            # last_loss = loss\n",
    "            \n",
    "    print(\"Training finished at Epoch %d with Sat Level %.3f\" %(epoch, 1 - loss))\n",
    "    \n",
    "    return heatmap_data, train_loss"
   ]
  },
  {
   "cell_type": "code",
   "execution_count": 172,
   "metadata": {},
   "outputs": [],
   "source": [
    "def set_training(num_objects = 32, object_dim = None, feature_type = \"onehot\" ,pos_chain_depth = 1,\n",
    "    train_split_pos = 0.,\n",
    "    train_split_neg = 0.,):\n",
    "    if object_dim is None:\n",
    "        object_dim = num_objects\n",
    "\n",
    "    # adjacency = adjacency_anti_transitive(num_objects)\n",
    "    # adjacency = adjacency_triangular_lattice(num_objects)\n",
    "    # adjacency = adjacency_lattice(num_objects, \n",
    "    #                               dim=2,\n",
    "    #                             #   dim=int(np.log2(num_objects))\n",
    "    #                             distance=3,\n",
    "    #                             periodic=False\n",
    "    #                               )\n",
    "    # adjacency = adjacency_from_string(num_objects, \"O\")\n",
    "    adjacency = adjacency_total_order(num_objects)\n",
    "\n",
    "\n",
    "    # plt.imshow(adjacency, cmap='hot')\n",
    "    # plt.show()\n",
    "    # nx.draw(G, with_labels=True, arrows=True, pos=pos)\n",
    "\n",
    "\n",
    "    constants, constants_tensor = get_constants(num_objects, object_dim, feature_type)\n",
    "    # pos_pairs, neg_pairs = get_pairs_adjacency(adjacency=adjacency)\n",
    "    # pos_sample, neg_sample = get_samples_adjacency(pos_pairs, neg_pairs, train_split_pos, train_split_neg)\n",
    "\n",
    "    pos_pairs, neg_pairs = get_pairs_total_order(num_objects)\n",
    "    pos_sample, neg_sample = get_samples_total_order(num_objects, pos_pairs, neg_pairs, pos_chain_depth, train_split_pos, train_split_neg)\n",
    "    eye_3D = get_eye_3D(num_objects)\n",
    "    return num_objects, object_dim, adjacency, constants, constants_tensor, pos_pairs, neg_pairs, pos_sample, neg_sample, eye_3D"
   ]
  },
  {
   "cell_type": "code",
   "execution_count": 173,
   "metadata": {},
   "outputs": [],
   "source": [
    "(num_objects, object_dim, adjacency, \n",
    " constants, constants_tensor, pos_pairs, \n",
    " neg_pairs, pos_sample, neg_sample, \n",
    " eye_3D) = set_training(num_objects = 32, object_dim = None, \n",
    "                        feature_type = \"index\" ,\n",
    "                        # feature_type = \"onehot\" ,\n",
    "                        pos_chain_depth = 1,\n",
    "                        train_split_pos = 0,\n",
    "                        train_split_neg = 0)\n",
    "\n",
    "pos_examples = pos_sample \n",
    "neg_examples = neg_sample\n",
    "\n",
    "# pos_examples = torch.Tensor([[i, i+1] for i in range(8-1)]).int()[[0,2,4,5,6]]\n",
    "# neg_examples = torch.Tensor([[i+2, i] for i in range(8-2)]).int()\n",
    "\n",
    "train_kwargs = dict(\n",
    "    epochs=300, epoch_steps=5,\n",
    "    reflective=True,\n",
    "    transitive=True,\n",
    "    anti_transitive=False,\n",
    "    symmetric=False,\n",
    "    anti_symmetric=True,\n",
    "    connected=True,\n",
    "    LEM=False,\n",
    "    pos_examples=pos_examples,\n",
    "    neg_examples=neg_examples,\n",
    "    # lr=0.01,\n",
    "    lr=0.01,\n",
    "    constants_tensor=constants_tensor,\n",
    "    switch=False,\n",
    "    ground_truth=adjacency\n",
    ")"
   ]
  },
  {
   "cell_type": "code",
   "execution_count": 178,
   "metadata": {},
   "outputs": [
    {
     "name": "stdout",
     "output_type": "stream",
     "text": [
      "Connective(connective_op=ImpliesReichenbach(stable=True))\n",
      "Epoch 0: Train Sat Level 0.642 \n",
      "Overall acc 0.533 \n",
      "Overall sat 0.500\n",
      "Epoch 5: Train Sat Level 0.649 \n",
      "Overall acc 0.546 \n",
      "Overall sat 0.501\n",
      "Epoch 10: Train Sat Level 0.656 \n",
      "Overall acc 0.546 \n",
      "Overall sat 0.502\n",
      "Epoch 15: Train Sat Level 0.663 \n",
      "Overall acc 0.546 \n",
      "Overall sat 0.503\n",
      "Epoch 20: Train Sat Level 0.669 \n",
      "Overall acc 0.556 \n",
      "Overall sat 0.504\n",
      "Epoch 25: Train Sat Level 0.676 \n",
      "Overall acc 0.608 \n",
      "Overall sat 0.506\n",
      "Epoch 30: Train Sat Level 0.683 \n",
      "Overall acc 0.650 \n",
      "Overall sat 0.508\n",
      "Epoch 35: Train Sat Level 0.689 \n",
      "Overall acc 0.661 \n",
      "Overall sat 0.511\n",
      "Epoch 40: Train Sat Level 0.695 \n",
      "Overall acc 0.697 \n",
      "Overall sat 0.514\n",
      "Epoch 45: Train Sat Level 0.701 \n",
      "Overall acc 0.696 \n",
      "Overall sat 0.519\n",
      "Epoch 50: Train Sat Level 0.707 \n",
      "Overall acc 0.706 \n",
      "Overall sat 0.525\n",
      "Epoch 55: Train Sat Level 0.713 \n",
      "Overall acc 0.719 \n",
      "Overall sat 0.531\n",
      "Epoch 60: Train Sat Level 0.719 \n",
      "Overall acc 0.727 \n",
      "Overall sat 0.539\n",
      "Epoch 65: Train Sat Level 0.725 \n",
      "Overall acc 0.732 \n",
      "Overall sat 0.547\n",
      "Epoch 70: Train Sat Level 0.731 \n",
      "Overall acc 0.742 \n",
      "Overall sat 0.556\n",
      "Epoch 75: Train Sat Level 0.736 \n",
      "Overall acc 0.747 \n",
      "Overall sat 0.564\n",
      "Epoch 80: Train Sat Level 0.742 \n",
      "Overall acc 0.753 \n",
      "Overall sat 0.573\n",
      "Epoch 85: Train Sat Level 0.748 \n",
      "Overall acc 0.759 \n",
      "Overall sat 0.582\n",
      "Epoch 90: Train Sat Level 0.754 \n",
      "Overall acc 0.761 \n",
      "Overall sat 0.591\n",
      "Epoch 95: Train Sat Level 0.759 \n",
      "Overall acc 0.758 \n",
      "Overall sat 0.599\n",
      "Epoch 100: Train Sat Level 0.765 \n",
      "Overall acc 0.755 \n",
      "Overall sat 0.607\n",
      "Epoch 105: Train Sat Level 0.770 \n",
      "Overall acc 0.755 \n",
      "Overall sat 0.615\n",
      "Epoch 110: Train Sat Level 0.775 \n",
      "Overall acc 0.754 \n",
      "Overall sat 0.622\n",
      "Epoch 115: Train Sat Level 0.779 \n",
      "Overall acc 0.755 \n",
      "Overall sat 0.628\n",
      "Epoch 120: Train Sat Level 0.783 \n",
      "Overall acc 0.757 \n",
      "Overall sat 0.633\n",
      "Epoch 125: Train Sat Level 0.787 \n",
      "Overall acc 0.757 \n",
      "Overall sat 0.638\n",
      "Epoch 130: Train Sat Level 0.791 \n",
      "Overall acc 0.757 \n",
      "Overall sat 0.643\n",
      "Epoch 135: Train Sat Level 0.794 \n",
      "Overall acc 0.758 \n",
      "Overall sat 0.646\n",
      "Epoch 140: Train Sat Level 0.797 \n",
      "Overall acc 0.758 \n",
      "Overall sat 0.650\n",
      "Epoch 145: Train Sat Level 0.799 \n",
      "Overall acc 0.758 \n",
      "Overall sat 0.653\n",
      "Epoch 150: Train Sat Level 0.802 \n",
      "Overall acc 0.758 \n",
      "Overall sat 0.655\n",
      "Epoch 155: Train Sat Level 0.804 \n",
      "Overall acc 0.759 \n",
      "Overall sat 0.658\n",
      "Epoch 160: Train Sat Level 0.806 \n",
      "Overall acc 0.759 \n",
      "Overall sat 0.660\n",
      "Epoch 165: Train Sat Level 0.808 \n",
      "Overall acc 0.759 \n",
      "Overall sat 0.662\n",
      "Epoch 170: Train Sat Level 0.810 \n",
      "Overall acc 0.760 \n",
      "Overall sat 0.663\n",
      "Epoch 175: Train Sat Level 0.811 \n",
      "Overall acc 0.760 \n",
      "Overall sat 0.665\n",
      "Epoch 180: Train Sat Level 0.813 \n",
      "Overall acc 0.760 \n",
      "Overall sat 0.666\n",
      "Epoch 185: Train Sat Level 0.814 \n",
      "Overall acc 0.760 \n",
      "Overall sat 0.668\n",
      "Epoch 190: Train Sat Level 0.816 \n",
      "Overall acc 0.761 \n",
      "Overall sat 0.669\n",
      "Epoch 195: Train Sat Level 0.817 \n",
      "Overall acc 0.765 \n",
      "Overall sat 0.671\n",
      "Epoch 200: Train Sat Level 0.818 \n",
      "Overall acc 0.766 \n",
      "Overall sat 0.672\n",
      "Epoch 205: Train Sat Level 0.820 \n",
      "Overall acc 0.767 \n",
      "Overall sat 0.673\n",
      "Epoch 210: Train Sat Level 0.821 \n",
      "Overall acc 0.767 \n",
      "Overall sat 0.675\n",
      "Epoch 215: Train Sat Level 0.822 \n",
      "Overall acc 0.768 \n",
      "Overall sat 0.676\n",
      "Epoch 220: Train Sat Level 0.823 \n",
      "Overall acc 0.770 \n",
      "Overall sat 0.677\n",
      "Epoch 225: Train Sat Level 0.824 \n",
      "Overall acc 0.771 \n",
      "Overall sat 0.678\n",
      "Epoch 230: Train Sat Level 0.824 \n",
      "Overall acc 0.772 \n",
      "Overall sat 0.679\n",
      "Epoch 235: Train Sat Level 0.825 \n",
      "Overall acc 0.772 \n",
      "Overall sat 0.680\n",
      "Epoch 240: Train Sat Level 0.826 \n",
      "Overall acc 0.773 \n",
      "Overall sat 0.681\n",
      "Epoch 245: Train Sat Level 0.827 \n",
      "Overall acc 0.773 \n",
      "Overall sat 0.682\n",
      "Epoch 250: Train Sat Level 0.828 \n",
      "Overall acc 0.773 \n",
      "Overall sat 0.683\n",
      "Epoch 255: Train Sat Level 0.828 \n",
      "Overall acc 0.773 \n",
      "Overall sat 0.684\n",
      "Epoch 260: Train Sat Level 0.829 \n",
      "Overall acc 0.773 \n",
      "Overall sat 0.684\n",
      "Epoch 265: Train Sat Level 0.829 \n",
      "Overall acc 0.773 \n",
      "Overall sat 0.685\n",
      "Epoch 270: Train Sat Level 0.830 \n",
      "Overall acc 0.773 \n",
      "Overall sat 0.686\n",
      "Epoch 275: Train Sat Level 0.831 \n",
      "Overall acc 0.774 \n",
      "Overall sat 0.686\n",
      "Epoch 280: Train Sat Level 0.831 \n",
      "Overall acc 0.774 \n",
      "Overall sat 0.687\n",
      "Epoch 285: Train Sat Level 0.832 \n",
      "Overall acc 0.775 \n",
      "Overall sat 0.687\n",
      "Epoch 290: Train Sat Level 0.832 \n",
      "Overall acc 0.775 \n",
      "Overall sat 0.688\n",
      "Epoch 295: Train Sat Level 0.832 \n",
      "Overall acc 0.776 \n",
      "Overall sat 0.688\n",
      "Training finished at Epoch 299 with Sat Level 0.833\n"
     ]
    }
   ],
   "source": [
    "train_kwargs[\"Forall\"] = ltn.Quantifier(agg_op=ltn.fuzzy_ops.AggregPMeanError(p=10, stable=True), quantifier='f')\n",
    "train_kwargs[\"Forall_custom\"]= ltn.Quantifier(agg_op=ltn.fuzzy_ops.AggregPMeanError(p=10, stable=True), quantifier='f')\n",
    "train_kwargs[\"sat_agg\"] = ltn.fuzzy_ops.SatAgg(agg_op=ltn.fuzzy_ops.AggregPMeanError(p=2, stable=True))\n",
    "train_kwargs[\"Implies\"] = ltn.Connective(ltn.fuzzy_ops.ImpliesReichenbach())\n",
    "# train_kwargs[\"Implies\"] = ltn.Connective(ltn.fuzzy_ops.ImpliesGodel())\n",
    "\n",
    "# train_kwargs[\"Implies\"] = list(Implies_dict.values())[1]\n",
    "print(train_kwargs[\"Implies\"])\n",
    "\n",
    "\n",
    "first_run = True\n",
    "if first_run:\n",
    "    heatmap_data_ind = []\n",
    "    train_loss=[]\n",
    "    model = BaselineRelationalIndependentModel(object_dim)\n",
    "    # shape = model.lin.weight.shape\n",
    "    # model.lin.weight = torch.nn.Parameter(torch.zeros(shape), requires_grad=True)\n",
    "    AOM = ltn.Predicate(model)\n",
    "heatmap_data_ind_last, train_loss_last = train(AOM, **train_kwargs, first_run=first_run)\n",
    "heatmap_data_ind += heatmap_data_ind_last\n",
    "train_loss += train_loss_last\n"
   ]
  },
  {
   "cell_type": "code",
   "execution_count": 180,
   "metadata": {},
   "outputs": [
    {
     "data": {
      "application/vnd.jupyter.widget-view+json": {
       "model_id": "ae284161b27d43419033c89a50c26db1",
       "version_major": 2,
       "version_minor": 0
      },
      "text/plain": [
       "interactive(children=(IntSlider(value=0, description='Frame', max=60), Output()), _dom_classes=('widget-intera…"
      ]
     },
     "metadata": {},
     "output_type": "display_data"
    },
    {
     "data": {
      "text/plain": [
       "[<matplotlib.lines.Line2D at 0x7fe4e23f0250>]"
      ]
     },
     "execution_count": 180,
     "metadata": {},
     "output_type": "execute_result"
    },
    {
     "data": {
      "image/png": "[encoded data removed]",
      "text/plain": [
       "<Figure size 640x480 with 1 Axes>"
      ]
     },
     "metadata": {},
     "output_type": "display_data"
    }
   ],
   "source": [
    "plot_mp(heatmap_data_ind, pos_examples=pos_examples, neg_examples=neg_examples)\n",
    "plt.plot(train_loss)"
   ]
  },
  {
   "cell_type": "code",
   "execution_count": 176,
   "metadata": {},
   "outputs": [
    {
     "ename": "AssertionError",
     "evalue": "",
     "output_type": "error",
     "traceback": [
      "\u001b[0;31m---------------------------------------------------------------------------\u001b[0m",
      "\u001b[0;31mAssertionError\u001b[0m                            Traceback (most recent call last)",
      "Cell \u001b[0;32mIn[176], line 1\u001b[0m\n\u001b[0;32m----> 1\u001b[0m \u001b[38;5;28;01massert\u001b[39;00m \u001b[38;5;28;01mFalse\u001b[39;00m\n",
      "\u001b[0;31mAssertionError\u001b[0m: "
     ]
    }
   ],
   "source": [
    "assert False"
   ]
  },
  {
   "cell_type": "code",
   "execution_count": null,
   "metadata": {},
   "outputs": [],
   "source": [
    "(num_objects, object_dim, adjacency, \n",
    " constants, constants_tensor, pos_pairs, \n",
    " neg_pairs, pos_sample, neg_sample, \n",
    " eye_3D) = set_training(num_objects = 32, object_dim = None, \n",
    "                        # feature_type = \"index\" ,\n",
    "                        feature_type = \"onehot\" ,\n",
    "                        pos_chain_depth = 1,\n",
    "                        train_split_pos = 0,\n",
    "                        train_split_neg = 0.1)\n",
    "\n",
    "pos_examples = pos_sample \n",
    "neg_examples = neg_sample\n",
    "\n",
    "# pos_examples = torch.Tensor([[i, i+1] for i in range(8-1)]).int()[[0,2,4,5,6]]\n",
    "# neg_examples = torch.Tensor([[i+2, i] for i in range(8-2)]).int()\n",
    "\n",
    "train_kwargs = dict(\n",
    "    epochs=100, epoch_steps=5,\n",
    "    reflective=False,\n",
    "    transitive=True,\n",
    "    anti_transitive=False,\n",
    "    symmetric=False,\n",
    "    anti_symmetric=True,\n",
    "    connected=True,\n",
    "    LEM=False,\n",
    "    pos_examples=pos_examples,\n",
    "    neg_examples=neg_examples,\n",
    "    # lr=0.01,\n",
    "    lr=0.01,\n",
    "    constants_tensor=constants_tensor,\n",
    "    switch=False,\n",
    "    ground_truth=adjacency\n",
    ")"
   ]
  },
  {
   "cell_type": "code",
   "execution_count": null,
   "metadata": {},
   "outputs": [
    {
     "name": "stdout",
     "output_type": "stream",
     "text": [
      "Epoch 0: Train Sat Level 0.642 \n",
      "Overall acc 0.484 \n",
      "Overall sat 0.500\n",
      "Epoch 5: Train Sat Level 0.642 \n",
      "Overall acc 0.486 \n",
      "Overall sat 0.500\n",
      "Epoch 10: Train Sat Level 0.647 \n",
      "Overall acc 0.576 \n",
      "Overall sat 0.508\n",
      "Epoch 15: Train Sat Level 0.669 \n",
      "Overall acc 0.699 \n",
      "Overall sat 0.635\n",
      "Epoch 20: Train Sat Level 0.717 \n",
      "Overall acc 0.839 \n",
      "Overall sat 0.776\n",
      "Epoch 25: Train Sat Level 0.738 \n",
      "Overall acc 0.841 \n",
      "Overall sat 0.780\n",
      "Epoch 30: Train Sat Level 0.775 \n",
      "Overall acc 0.908 \n",
      "Overall sat 0.868\n",
      "Epoch 35: Train Sat Level 0.781 \n",
      "Overall acc 0.905 \n",
      "Overall sat 0.868\n",
      "Epoch 40: Train Sat Level 0.790 \n",
      "Overall acc 0.933 \n",
      "Overall sat 0.892\n",
      "Epoch 45: Train Sat Level 0.813 \n",
      "Overall acc 0.927 \n",
      "Overall sat 0.896\n",
      "Epoch 50: Train Sat Level 0.863 \n",
      "Overall acc 0.963 \n",
      "Overall sat 0.946\n",
      "Epoch 55: Train Sat Level 0.841 \n",
      "Overall acc 0.952 \n",
      "Overall sat 0.943\n",
      "Epoch 60: Train Sat Level 0.842 \n",
      "Overall acc 0.946 \n",
      "Overall sat 0.932\n",
      "Epoch 65: Train Sat Level 0.839 \n",
      "Overall acc 0.950 \n",
      "Overall sat 0.939\n",
      "Epoch 70: Train Sat Level 0.798 \n",
      "Overall acc 0.955 \n",
      "Overall sat 0.950\n",
      "Epoch 75: Train Sat Level 0.834 \n",
      "Overall acc 0.949 \n",
      "Overall sat 0.935\n",
      "Epoch 80: Train Sat Level 0.861 \n",
      "Overall acc 0.959 \n",
      "Overall sat 0.944\n",
      "Epoch 85: Train Sat Level 0.888 \n",
      "Overall acc 0.970 \n",
      "Overall sat 0.962\n",
      "Epoch 90: Train Sat Level 0.913 \n",
      "Overall acc 0.965 \n",
      "Overall sat 0.965\n",
      "Epoch 95: Train Sat Level 0.878 \n",
      "Overall acc 0.951 \n",
      "Overall sat 0.950\n",
      "Training finished at Epoch 99 with Sat Level 0.733\n"
     ]
    }
   ],
   "source": [
    "train_kwargs[\"Forall\"] = ltn.Quantifier(agg_op=ltn.fuzzy_ops.AggregPMeanError(p=2, stable=True), quantifier='f')\n",
    "train_kwargs[\"Forall_custom\"]= ltn.Quantifier(agg_op=ltn.fuzzy_ops.AggregPMeanError(p=10, stable=True), quantifier='f')\n",
    "train_kwargs[\"sat_agg\"] = ltn.fuzzy_ops.SatAgg(agg_op=ltn.fuzzy_ops.AggregPMeanError(p=2, stable=True))\n",
    "train_kwargs[\"Implies\"] = ltn.Connective(ltn.fuzzy_ops.ImpliesReichenbach())\n",
    "\n",
    "\n",
    "first_run = True\n",
    "if first_run:\n",
    "    heatmap_data_abstr = []\n",
    "    AOM = ltn.Predicate(AbstractorOrderModel(object_dim, orderabstractor_kwargs))\n",
    "    # AOM = ltn.Predicate(BaselineRelationalModelConcat(object_dim, object_dim))\n",
    "\n",
    "heatmap_data_abstr += train(AOM, **train_kwargs, first_run=first_run)\n"
   ]
  },
  {
   "cell_type": "code",
   "execution_count": null,
   "metadata": {},
   "outputs": [
    {
     "data": {
      "application/vnd.jupyter.widget-view+json": {
       "model_id": "a4fcc54930cf49b4bd81964687f59d09",
       "version_major": 2,
       "version_minor": 0
      },
      "text/plain": [
       "interactive(children=(IntSlider(value=0, description='Frame', max=20), Output()), _dom_classes=('widget-intera…"
      ]
     },
     "metadata": {},
     "output_type": "display_data"
    }
   ],
   "source": [
    "# rules\n",
    "plot_mp(heatmap_data_abstr, pos_examples=pos_examples, neg_examples=neg_examples)"
   ]
  },
  {
   "cell_type": "code",
   "execution_count": null,
   "metadata": {},
   "outputs": [
    {
     "data": {
      "application/vnd.jupyter.widget-view+json": {
       "model_id": "a7182edeb834406fb2f7f75a28c63cf4",
       "version_major": 2,
       "version_minor": 0
      },
      "text/plain": [
       "interactive(children=(IntSlider(value=0, description='Frame', max=40), Output()), _dom_classes=('widget-intera…"
      ]
     },
     "metadata": {},
     "output_type": "display_data"
    }
   ],
   "source": [
    "plot_mp(heatmap_data_abstr, pos_examples=pos_examples, neg_examples=neg_examples)"
   ]
  },
  {
   "cell_type": "code",
   "execution_count": null,
   "metadata": {},
   "outputs": [
    {
     "ename": "AssertionError",
     "evalue": "",
     "output_type": "error",
     "traceback": [
      "\u001b[0;31m---------------------------------------------------------------------------\u001b[0m",
      "\u001b[0;31mAssertionError\u001b[0m                            Traceback (most recent call last)",
      "Cell \u001b[0;32mIn[146], line 1\u001b[0m\n\u001b[0;32m----> 1\u001b[0m \u001b[38;5;28;01massert\u001b[39;00m \u001b[38;5;28;01mFalse\u001b[39;00m\n",
      "\u001b[0;31mAssertionError\u001b[0m: "
     ]
    }
   ],
   "source": [
    "assert False"
   ]
  },
  {
   "cell_type": "code",
   "execution_count": null,
   "metadata": {},
   "outputs": [],
   "source": [
    "Godel = dict(\n",
    "    Not = ltn.Connective(ltn.fuzzy_ops.NotGodel()),\n",
    "    Not = ltn.Connective(ltn.fuzzy_ops.NotGodel()),\n",
    "    And = ltn.Connective(ltn.fuzzy_ops.AndMin()),\n",
    "    Or = ltn.Connective(ltn.fuzzy_ops.OrMax()),\n",
    "    Implies = ltn.Connective(ltn.fuzzy_ops.ImpliesGodel()),\n",
    ")\n",
    "\n",
    "KleeneDienes = dict(\n",
    "    Not = ltn.Connective(ltn.fuzzy_ops.NotGodel()),\n",
    "    Not = ltn.Connective(ltn.fuzzy_ops.NotGodel()),\n",
    "    And = ltn.Connective(ltn.fuzzy_ops.AndMin()),\n",
    "    Or = ltn.Connective(ltn.fuzzy_ops.OrMax()),\n",
    "    Implies = ltn.Connective(ltn.fuzzy_ops.ImpliesKleeneDienes()),\n",
    ")\n",
    "\n",
    "Goguen = dict(\n",
    "    Not = ltn.Connective(ltn.fuzzy_ops.NotStandard()),\n",
    "    And = ltn.Connective(ltn.fuzzy_ops.AndProd()),\n",
    "    Or = ltn.Connective(ltn.fuzzy_ops.OrProbSum()),\n",
    "    Implies = ltn.Connective(ltn.fuzzy_ops.ImpliesGoguen()),\n",
    ")\n",
    "\n",
    "Reichenbach = dict(\n",
    "    Not = ltn.Connective(ltn.fuzzy_ops.NotStandard()),\n",
    "    And = ltn.Connective(ltn.fuzzy_ops.AndProd()),\n",
    "    Or = ltn.Connective(ltn.fuzzy_ops.OrProbSum()),\n",
    "    Implies = ltn.Connective(ltn.fuzzy_ops.ImpliesReichenbach()),\n",
    ")\n",
    "\n",
    "Luk = dict(\n",
    "    Not = ltn.Connective(ltn.fuzzy_ops.NotStandard()),\n",
    "    And = ltn.Connective(ltn.fuzzy_ops.AndLuk()),\n",
    "    Or = ltn.Connective(ltn.fuzzy_ops.OrLuk()),\n",
    "    Implies = ltn.Connective(ltn.fuzzy_ops.ImpliesLuk()),\n",
    ")\n",
    "\n",
    "Forall = ltn.Quantifier(ltn.fuzzy_ops.AggregPMeanError(p=2), quantifier=\"f\")\n",
    "Exists = ltn.Quantifier(ltn.fuzzy_ops.AggregPMean(p=6), quantifier=\"e\")\n"
   ]
  },
  {
   "cell_type": "code",
   "execution_count": null,
   "metadata": {},
   "outputs": [],
   "source": [
    "Forall_pmean_error_p2 = ltn.Quantifier(ltn.fuzzy_ops.AggregPMeanError(p=2), quantifier=\"f\")\n",
    "Forall_pmean_error_p10 = ltn.Quantifier(ltn.fuzzy_ops.AggregPMeanError(p=10), quantifier=\"f\")\n",
    "Forall_min = ltn.Quantifier(ltn.fuzzy_ops.AggregMin(), quantifier=\"f\")\n",
    "Forall_mean = ltn.Quantifier(ltn.fuzzy_ops.AggregMean(), quantifier=\"f\")\n",
    "\n",
    "Forall_dict = dict(\n",
    "Forall_pmean_error_p2=Forall_pmean_error_p2,\n",
    "Forall_pmean_error_p10=Forall_pmean_error_p10,\n",
    "Forall_min=Forall_min,\n",
    "Forall_mean=Forall_mean,\n",
    ")\n",
    "\n",
    "Implies_reichenbach = ltn.Connective(ltn.fuzzy_ops.ImpliesReichenbach())\n",
    "Implies_kleene_diene = ltn.Connective(ltn.fuzzy_ops.ImpliesKleeneDienes())\n",
    "Implies_godel = ltn.Connective(ltn.fuzzy_ops.ImpliesGodel())\n",
    "Implies_Goguen = ltn.Connective(ltn.fuzzy_ops.ImpliesGoguen())\n",
    "Implies_Luk = ltn.Connective(ltn.fuzzy_ops.ImpliesLuk())\n",
    "\n",
    "Implies_Reichen_sigm_s3 = ltn.Connective(ImpliesReichenbachSigmoidal(s=3))\n",
    "Implies_Reichen_sigm_s9 = ltn.Connective(ImpliesReichenbachSigmoidal(s=9))\n",
    "Implies_Reichen_sigm_s18 = ltn.Connective(ImpliesReichenbachSigmoidal(s=18))\n",
    "\n",
    "\n",
    "\n",
    "Implies_dict = dict(\n",
    "    Implies_reichenbach=Implies_reichenbach,\n",
    "Implies_kleene_diene=Implies_kleene_diene,\n",
    "Implies_godel=Implies_godel,\n",
    "Implies_Luk=Implies_Luk,\n",
    "Implies_Goguen=Implies_Goguen,\n",
    "Implies_Reichen_sigm_s3=Implies_Reichen_sigm_s3,\n",
    "Implies_Reichen_sigm_s9=Implies_Reichen_sigm_s9,\n",
    "Implies_Reichen_sigm_s18=Implies_Reichen_sigm_s18,\n",
    ")"
   ]
  },
  {
   "cell_type": "code",
   "execution_count": null,
   "metadata": {},
   "outputs": [],
   "source": [
    "import pickle\n",
    "with open(f'trans_abl_{object_dim}_independent.pkl', 'rb') as f:\n",
    "    results = pickle.load(f)\n",
    "# object_dim = 32\n",
    "# with open(f'trans_abl_{object_dim}_independent.pkl', 'rb') as f:\n",
    "#     results[object_dim] = pickle.load(f)"
   ]
  },
  {
   "cell_type": "code",
   "execution_count": null,
   "metadata": {},
   "outputs": [
    {
     "name": "stdout",
     "output_type": "stream",
     "text": [
      "Training finished at Epoch 1999 with Sat Level 0.997\n",
      "Training finished at Epoch 1999 with Sat Level 0.997\n",
      "Training finished at Epoch 1999 with Sat Level 0.974\n",
      "Training finished at Epoch 1999 with Sat Level 0.998\n"
     ]
    }
   ],
   "source": [
    "train_kwargs[\"sat_agg\"] = ltn.fuzzy_ops.SatAgg(agg_op=ltn.fuzzy_ops.AggregPMeanError(p=2, stable=True))\n",
    "\n",
    "# results = {}\n",
    "\n",
    "for Forall in Forall_dict:\n",
    "    # results[Forall] = {}\n",
    "    # for Implies in Implies_dict:\n",
    "    for Implies in [\"Implies_Luk\"]:\n",
    "\n",
    "        train_kwargs[\"Forall\"] = Forall_dict[Forall]\n",
    "        train_kwargs[\"Forall_custom\"] = Forall_dict[Forall]\n",
    "        train_kwargs[\"Implies\"] = Implies_dict[Implies]\n",
    "\n",
    "        IOM = ltn.Predicate(BaselineRelationalIndependentModel(num_objects))\n",
    "        results[Forall][Implies] = train(IOM, **train_kwargs, first_run=True)"
   ]
  },
  {
   "cell_type": "code",
   "execution_count": null,
   "metadata": {},
   "outputs": [],
   "source": [
    "import pickle\n",
    "# Save to a pickle file\n",
    "with open(f'trans_abl_{object_dim}_independent.pkl', 'wb') as f:\n",
    "    pickle.dump(results, f)"
   ]
  },
  {
   "cell_type": "code",
   "execution_count": null,
   "metadata": {},
   "outputs": [
    {
     "ename": "AssertionError",
     "evalue": "",
     "output_type": "error",
     "traceback": [
      "\u001b[0;31m---------------------------------------------------------------------------\u001b[0m",
      "\u001b[0;31mAssertionError\u001b[0m                            Traceback (most recent call last)",
      "Cell \u001b[0;32mIn[48], line 1\u001b[0m\n\u001b[0;32m----> 1\u001b[0m \u001b[38;5;28;01massert\u001b[39;00m \u001b[38;5;28;01mFalse\u001b[39;00m\n",
      "\u001b[0;31mAssertionError\u001b[0m: "
     ]
    }
   ],
   "source": [
    "assert False"
   ]
  },
  {
   "cell_type": "code",
   "execution_count": null,
   "metadata": {},
   "outputs": [
    {
     "data": {
      "application/vnd.jupyter.widget-view+json": {
       "model_id": "92dc7294d00446abb67689af1216da0e",
       "version_major": 2,
       "version_minor": 0
      },
      "text/plain": [
       "interactive(children=(IntSlider(value=0, description='Frame', max=27), Output()), _dom_classes=('widget-intera…"
      ]
     },
     "metadata": {},
     "output_type": "display_data"
    }
   ],
   "source": [
    "trans_abl_last = [results[a][b][-1] for a in results for b in results[a]]\n",
    "plot_mp(trans_abl_last, pos_examples=pos_examples, neg_examples=neg_examples)"
   ]
  },
  {
   "cell_type": "code",
   "execution_count": null,
   "metadata": {},
   "outputs": [
    {
     "data": {
      "image/png": "[encoded data removed]",
      "text/plain": [
       "<Figure size 640x480 with 1 Axes>"
      ]
     },
     "metadata": {},
     "output_type": "display_data"
    }
   ],
   "source": [
    "i = 40\n",
    "for Forall in Forall_dict:\n",
    "    for Implies in Implies_dict:\n",
    "        data = results[Forall][Implies]\n",
    "        file_name = f\"{Forall}_{Implies}_{50*i}_{object_dim}.png\"\n",
    "        save_plot_heatmap(data[i], pos_examples=pos_examples, file_name=file_name)\n",
    "        break\n",
    "    break\n"
   ]
  },
  {
   "cell_type": "code",
   "execution_count": null,
   "metadata": {},
   "outputs": [],
   "source": [
    "def save_plot_heatmap(data, pos_examples, file_name, text=None):\n",
    "    plt.imshow(data, cmap=\"PuBu\", vmin=0, vmax=1)\n",
    "    # plt.colorbar()\n",
    "    if text:\n",
    "        plt.title(text)\n",
    "\n",
    "    # Mark specific grids (if provided)\n",
    "    for row, col in pos_examples:\n",
    "        plt.gca().add_patch(\n",
    "            plt.Rectangle(\n",
    "                (col - 0.475, row - 0.475),\n",
    "                0.95,\n",
    "                0.95,\n",
    "                edgecolor=\"yellow\",\n",
    "                fill=False,\n",
    "                lw=1,\n",
    "            )\n",
    "        )\n",
    "    data_dir = \"plots/trans_abl\"\n",
    "    file_path = os.path.join(\n",
    "                data_dir,\n",
    "                file_name\n",
    "            )\n",
    "    plt.savefig(\n",
    "        file_path,\n",
    "        # dpi=dpi,\n",
    "        bbox_inches=\"tight\",\n",
    "        pad_inches=0.0,\n",
    "    )"
   ]
  },
  {
   "cell_type": "code",
   "execution_count": null,
   "metadata": {},
   "outputs": [],
   "source": [
    "def plot_heatmap(data, text, pos_examples):\n",
    "    plt.imshow(data, cmap=\"PuBu\", vmin=0, vmax=1)\n",
    "    plt.colorbar()\n",
    "    plt.title(text)\n",
    "\n",
    "    # Mark specific grids (if provided)\n",
    "    for row, col in pos_examples:\n",
    "        plt.gca().add_patch(\n",
    "            plt.Rectangle(\n",
    "                (col - 0.475, row - 0.475),\n",
    "                0.95,\n",
    "                0.95,\n",
    "                edgecolor=\"yellow\",\n",
    "                fill=False,\n",
    "                lw=1,\n",
    "            )\n",
    "        )\n",
    "\n",
    "    plt.show()"
   ]
  },
  {
   "cell_type": "code",
   "execution_count": null,
   "metadata": {},
   "outputs": [],
   "source": [
    "train_kwargs[\"sat_agg\"] = ltn.fuzzy_ops.SatAgg(agg_op=ltn.fuzzy_ops.AggregPMeanError(p=2, stable=True))\n",
    "\n",
    "results = {}\n",
    "\n",
    "for Forall in Forall_dict:\n",
    "    results[Forall] = {}\n",
    "    for Implies in Implies_dict:\n",
    "        train_kwargs[\"Forall\"] = Forall_dict[Forall]\n",
    "        train_kwargs[\"Forall_custom\"] = Forall_dict[Forall]\n",
    "        train_kwargs[\"Implies\"] = Implies_dict[Implies]\n",
    "\n",
    "        IOM = ltn.Predicate(BaselineRelationalIndependentModel(num_objects))\n",
    "        results[Forall][Implies] = train(IOM, **train_kwargs, first_run=True)"
   ]
  },
  {
   "cell_type": "code",
   "execution_count": null,
   "metadata": {},
   "outputs": [],
   "source": [
    "assert False"
   ]
  },
  {
   "cell_type": "code",
   "execution_count": null,
   "metadata": {},
   "outputs": [],
   "source": [
    "train_kwargs[\"Forall\"] = ltn.Quantifier(agg_op=ltn.fuzzy_ops.AggregPMeanError(p=2, stable=True), quantifier='f')\n",
    "train_kwargs[\"sat_agg\"] = ltn.fuzzy_ops.SatAgg(agg_op=ltn.fuzzy_ops.AggregPMeanError(p=2, stable=True))\n",
    "\n",
    "first_run = True\n",
    "if first_run:\n",
    "    heatmap_data_abstr = []\n",
    "    AOM = ltn.Predicate(AbstractorOrderModel(object_dim, orderabstractor_kwargs))\n",
    "heatmap_data_abstr += train(AOM, **train_kwargs, first_run=first_run)"
   ]
  },
  {
   "cell_type": "code",
   "execution_count": null,
   "metadata": {},
   "outputs": [],
   "source": [
    "plot_mp(heatmap_data_abstr, pos_examples=pos_examples, neg_examples=neg_examples)"
   ]
  },
  {
   "cell_type": "code",
   "execution_count": null,
   "metadata": {},
   "outputs": [],
   "source": [
    "first_run = True\n",
    "if first_run:\n",
    "    heatmap_data_base_concat = []\n",
    "    AOM = ltn.Predicate(BaselineRelationalModelConcat(num_objects=num_objects, object_dim=object_dim))\n",
    "heatmap_data_base_concat += train(AOM, **train_kwargs, first_run=first_run)"
   ]
  },
  {
   "cell_type": "code",
   "execution_count": null,
   "metadata": {},
   "outputs": [],
   "source": [
    "plot_mp(heatmap_data_base_concat, pos_examples=pos_examples, neg_examples=neg_examples)"
   ]
  },
  {
   "cell_type": "code",
   "execution_count": null,
   "metadata": {},
   "outputs": [],
   "source": [
    "assert False"
   ]
  },
  {
   "cell_type": "code",
   "execution_count": null,
   "metadata": {},
   "outputs": [],
   "source": [
    "# # AOM = ltn.Predicate(AbstractorOrderModel(orderabstractor_kwargs))\n",
    "# train_kwargs[\"Forall\"] = ltn.Quantifier(agg_op=ltn.fuzzy_ops.AggregPMeanError(p=20, stable=True), quantifier='f')\n",
    "\n",
    "# train_kwargs[\"Implies\"] = Implies_godel\n",
    "# train_kwargs[\"transitive\"]=True,\n",
    "# train_kwargs[\"switch\"]=False\n",
    "\n",
    "# AOM = torch.load(f\"checkpoints/chain_{object_dim}.PT\")\n",
    "# heatmap_data_abstr = train(AOM, **train_kwargs)"
   ]
  },
  {
   "cell_type": "code",
   "execution_count": null,
   "metadata": {},
   "outputs": [],
   "source": [
    "# plot_mp(heatmap_data_abstr, pos_examples=pos_examples, neg_examples=neg_examples)"
   ]
  },
  {
   "cell_type": "code",
   "execution_count": null,
   "metadata": {},
   "outputs": [],
   "source": [
    "assert False"
   ]
  },
  {
   "cell_type": "code",
   "execution_count": null,
   "metadata": {},
   "outputs": [],
   "source": [
    "trans_abl08 = []\n",
    "\n",
    "train_kwargs[\"Forall\"] = ltn.Quantifier(agg_op=ltn.fuzzy_ops.AggregPMeanError(p=4, stable=True), quantifier='f')\n",
    "\n",
    "train_kwargs[\"Implies\"] = Implies_godel\n",
    "train_kwargs[\"transitive\"]=True,\n",
    "train_kwargs[\"switch\"]=False\n",
    "\n",
    "# for Forall in Foralls_list:\n",
    "#     train_kwargs[\"Forall\"] = Forall\n",
    "\n",
    "for Implies in Implies_list:\n",
    "    train_kwargs[\"Implies\"] = Implies\n",
    "    AOM = torch.load(f\"checkpoints/chain_{object_dim}.PT\")\n",
    "    # AOM = ltn.Predicate(AbstractorOrderModel(orderabstractor_kwargs))\n",
    "    trans_abl08.append(train(AOM, **train_kwargs))"
   ]
  },
  {
   "cell_type": "code",
   "execution_count": null,
   "metadata": {},
   "outputs": [],
   "source": [
    "import pickle\n",
    "# Save to a pickle file\n",
    "with open(f'trans_abl_{object_dim}_PMeanErrorp=4_w09.pkl', 'wb') as f:\n",
    "    pickle.dump(trans_abl08, f)"
   ]
  },
  {
   "cell_type": "code",
   "execution_count": null,
   "metadata": {},
   "outputs": [],
   "source": [
    "# i = 0\n",
    "# for Forall in Foralls_list:\n",
    "\n",
    "#     for Implies in Implies_list:\n",
    "#         print(i, Forall.agg_op, Implies.connective_op)\n",
    "#         i +=1"
   ]
  },
  {
   "cell_type": "code",
   "execution_count": null,
   "metadata": {},
   "outputs": [],
   "source": [
    "trans_abl08_last = [a[-1] for a in trans_abl08]\n",
    "plot_mp(trans_abl08_last, pos_examples=pos_examples, neg_examples=neg_examples)"
   ]
  },
  {
   "cell_type": "code",
   "execution_count": null,
   "metadata": {},
   "outputs": [],
   "source": [
    "plot_mp(trans_abl08[0], pos_examples=pos_examples, neg_examples=neg_examples)"
   ]
  },
  {
   "cell_type": "code",
   "execution_count": null,
   "metadata": {},
   "outputs": [],
   "source": [
    "plot_mp(trans_abl[-1], pos_examples=pos_examples, neg_examples=neg_examples)"
   ]
  },
  {
   "cell_type": "code",
   "execution_count": null,
   "metadata": {},
   "outputs": [],
   "source": [
    "trans_abl_end = [a[-1] for a in trans_abl]\n",
    "plot_mp(trans_abl_end, pos_examples=pos_examples, neg_examples=neg_examples)"
   ]
  },
  {
   "cell_type": "code",
   "execution_count": null,
   "metadata": {},
   "outputs": [],
   "source": [
    "i=0\n",
    "Implies(And(AOM(c[i], c[i+1]), AOM(c[i+1], c[i+2])), AOM(c[i], c[i+2]))\n"
   ]
  },
  {
   "cell_type": "code",
   "execution_count": null,
   "metadata": {},
   "outputs": [],
   "source": [
    "3, 8, 10, 11\n",
    "i = 0\n",
    "for Forall in Foralls_list:\n",
    "    for Implies in Implies_list:\n",
    "        if i == 11:\n",
    "            print(Forall.agg_op, Implies.connective_op)\n",
    "            plot_mp(trans_abl[i], pos_examples=pos_examples, neg_examples=neg_examples)\n",
    "        i+=1"
   ]
  },
  {
   "cell_type": "code",
   "execution_count": null,
   "metadata": {},
   "outputs": [],
   "source": [
    "R = ltn.Predicate(BaselineRelationalModel(num_objects, object_dim, final_size=8))\n",
    "heatmap_data_R = train(R, **train_kwargs)"
   ]
  },
  {
   "cell_type": "code",
   "execution_count": null,
   "metadata": {},
   "outputs": [],
   "source": [
    "plot_mp(heatmap_data_R, pos_examples=pos_examples, neg_examples=neg_examples)"
   ]
  },
  {
   "cell_type": "code",
   "execution_count": null,
   "metadata": {},
   "outputs": [],
   "source": [
    "Rcat = ltn.Predicate(BaselineRelationalModelConcat(num_objects, object_dim))\n",
    "heatmap_data_Rcat = train(Rcat, **train_kwargs)"
   ]
  },
  {
   "cell_type": "code",
   "execution_count": null,
   "metadata": {},
   "outputs": [],
   "source": [
    "plot_mp(heatmap_data_Rcat, pos_examples=pos_examples, neg_examples=neg_examples)"
   ]
  },
  {
   "cell_type": "code",
   "execution_count": null,
   "metadata": {},
   "outputs": [],
   "source": [
    "orderabstractor_kwargs = {\n",
    "    \"num_layers\": 1,\n",
    "    \"norm\": None,  # Example normalization layer\n",
    "    \"use_pos_embedding\": False,\n",
    "    \"use_learned_symbols\": False,\n",
    "    \"learn_symbol_per_position\": False,\n",
    "    \"use_symbolic_attention\": True,\n",
    "    \"object_dim\": object_dim,\n",
    "    \"symbol_dim\": 64,  # Using a different symbol dimension\n",
    "    \"num_heads\": 1,\n",
    "    \"ff_dim\": 64,\n",
    "    \"dropout\": 0.1,\n",
    "    \"MHA_kwargs\": {\n",
    "        \"use_bias\": False,\n",
    "        \"activation\": torch.nn.Identity(),  # Different activation function\n",
    "        # \"activation\": nn.Softmax(-1),\n",
    "        # \"activation\": nn.Sigmoid(),\n",
    "        # \"activation\": sparsemax,\n",
    "        \"use_scaling\": True,\n",
    "        \"shared_kv_proj\": False,\n",
    "    },\n",
    "}\n"
   ]
  },
  {
   "cell_type": "code",
   "execution_count": null,
   "metadata": {},
   "outputs": [],
   "source": [
    "AOM = ltn.Predicate(AbstractorOrderModel(orderabstractor_kwargs))\n",
    "heatmap_data_abstr = train(AOM, **train_kwargs)"
   ]
  },
  {
   "cell_type": "code",
   "execution_count": null,
   "metadata": {},
   "outputs": [],
   "source": [
    "plot_mp(heatmap_data_abstr, pos_examples=pos_examples, neg_examples=neg_examples)"
   ]
  },
  {
   "cell_type": "code",
   "execution_count": null,
   "metadata": {},
   "outputs": [],
   "source": [
    "orderabstractor_kwargs = {\n",
    "    \"num_layers\": 1,\n",
    "    \"norm\": None,  # Example normalization layer\n",
    "    \"use_pos_embedding\": True,\n",
    "    \"use_learned_symbols\": False,\n",
    "    \"learn_symbol_per_position\": False,\n",
    "    \"use_symbolic_attention\": False,\n",
    "    \"object_dim\": object_dim,\n",
    "    \"symbol_dim\": 64,  # Using a different symbol dimension\n",
    "    \"num_heads\": 1,\n",
    "    \"ff_dim\": 64,\n",
    "    \"dropout\": 0.1,\n",
    "    \"MHA_kwargs\": {\n",
    "        \"use_bias\": False,\n",
    "        \"activation\": torch.nn.Identity(),  # Different activation function\n",
    "        # \"activation\": nn.Softmax(-1),\n",
    "        # \"activation\": nn.Sigmoid(),\n",
    "        # \"activation\": sparsemax,\n",
    "        \"use_scaling\": True,\n",
    "        \"shared_kv_proj\": False,\n",
    "    },\n",
    "}\n"
   ]
  },
  {
   "cell_type": "code",
   "execution_count": null,
   "metadata": {},
   "outputs": [],
   "source": [
    "AOM = ltn.Predicate(AbstractorOrderModel(orderabstractor_kwargs))\n",
    "heatmap_data_abstr = train(AOM, **train_kwargs)"
   ]
  },
  {
   "cell_type": "code",
   "execution_count": null,
   "metadata": {},
   "outputs": [],
   "source": [
    "plot_mp(heatmap_data_abstr, pos_examples=pos_examples, neg_examples=neg_examples)"
   ]
  },
  {
   "cell_type": "code",
   "execution_count": null,
   "metadata": {},
   "outputs": [],
   "source": [
    "# i = 0\n",
    "# data = heatmap_data_R[i]\n",
    "# plt.imshow(data, cmap=\"viridis\", vmin=0, vmax=1)\n",
    "# plt.colorbar()\n",
    "# plt.title(f\"Prediction after {20 * i} epoch\")\n",
    "# plt.show()"
   ]
  }
 ],
 "metadata": {
  "kernelspec": {
   "display_name": "LTN",
   "language": "python",
   "name": "python3"
  },
  "language_info": {
   "codemirror_mode": {
    "name": "ipython",
    "version": 3
   },
   "file_extension": ".py",
   "mimetype": "text/x-python",
   "name": "python",
   "nbconvert_exporter": "python",
   "pygments_lexer": "ipython3",
   "version": "3.9.19"
  },
  "vscode": {
   "interpreter": {
    "hash": "41e82446411d69384d72a304a49edf43449f9ad19ac7ac91cb04fd1f2b17f4cd"
   }
  }
 },
 "nbformat": 4,
 "nbformat_minor": 0
}
